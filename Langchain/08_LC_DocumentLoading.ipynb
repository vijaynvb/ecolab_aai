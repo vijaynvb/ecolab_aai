{
  "cells": [
    {
      "cell_type": "markdown",
      "id": "7jvIN05PLgtV",
      "metadata": {
        "id": "7jvIN05PLgtV"
      },
      "source": [
        "# **Document Loading**\n",
        "\n",
        "Document loading refers to the process of fetching and retrieving content from external sources such as websites or databases into an application or system. It is essential for accessing and utilizing data, text, or multimedia resources dynamically, enabling applications to display, process, or manipulate information sourced from various repositories. This capability is crucial for real-time updates, content integration, and efficient data handling in modern software and web development.\n",
        "\n"
      ]
    },
    {
      "cell_type": "code",
      "execution_count": null,
      "id": "Fs_BT8h2LbXf",
      "metadata": {
        "id": "Fs_BT8h2LbXf"
      },
      "outputs": [],
      "source": [
        "%%capture\n",
        "# update or install the necessary libraries\n",
        "!pip install --upgrade langchain langchain_community langchain-openai\n",
        "!pip install pypdf\n",
        "!pip install --upgrade python-dotenv"
      ]
    },
    {
      "cell_type": "code",
      "execution_count": null,
      "id": "ffd55395",
      "metadata": {
        "id": "ffd55395"
      },
      "outputs": [],
      "source": [
        "import os\n",
        "from dotenv import load_dotenv\n",
        "\n",
        "# Load environment variables from .env file\n",
        "load_dotenv()\n",
        "\n",
        "os.environ[\"OPENAI_API_VERSION\"] = os.getenv('OPENAI_API_VERSION')\n",
        "os.environ[\"AZURE_OPENAI_ENDPOINT\"] = os.getenv('AZURE_OPENAI_ENDPOINT')\n",
        "os.environ[\"AZURE_OPENAI_API_KEY\"] = os.getenv('AZURE_OPENAI_API_KEY')"
      ]
    },
    {
      "cell_type": "markdown",
      "id": "Pj4FYj1dOxXm",
      "metadata": {
        "id": "Pj4FYj1dOxXm"
      },
      "source": [
        "# **PDF**"
      ]
    },
    {
      "cell_type": "code",
      "execution_count": null,
      "id": "f94a8167",
      "metadata": {
        "id": "f94a8167"
      },
      "outputs": [],
      "source": [
        "from langchain.document_loaders import PyPDFLoader\n",
        "loader = PyPDFLoader(\"./content/MachineLearning-Lecture01.pdf\")\n",
        "pages = loader.load()"
      ]
    },
    {
      "cell_type": "code",
      "execution_count": 5,
      "id": "0190a889",
      "metadata": {
        "colab": {
          "base_uri": "https://localhost:8080/"
        },
        "id": "0190a889",
        "outputId": "2d119482-1c72-4d29-91d4-9652cfefe14d"
      },
      "outputs": [
        {
          "name": "stdout",
          "output_type": "stream",
          "text": [
            "MachineLearning-Lecture01  \n",
            "Instructor (Andrew Ng): Okay. Good morning. Welcome to CS229, the machine \n",
            "learning class. So what I wanna do today is just spend a little time going over the logistics \n",
            "of the class, and then we'll start to talk a bit about machine learning.  \n",
            "By way of introduction, my name's Andrew Ng and I'll be instructor for this class. And so \n",
            "I personally work in machine learning, and I've worked on it for about 15 years now, and \n",
            "I actually think that machine learning is the \n"
          ]
        },
        {
          "data": {
            "text/plain": [
              "{'producer': 'Acrobat Distiller 8.1.0 (Windows)',\n",
              " 'creator': 'PScript5.dll Version 5.2.2',\n",
              " 'creationdate': '2008-07-11T11:25:23-07:00',\n",
              " 'author': '',\n",
              " 'moddate': '2008-07-11T11:25:23-07:00',\n",
              " 'title': '',\n",
              " 'source': '/content/MachineLearning-Lecture01.pdf',\n",
              " 'total_pages': 22,\n",
              " 'page': 0,\n",
              " 'page_label': '1'}"
            ]
          },
          "execution_count": 5,
          "metadata": {},
          "output_type": "execute_result"
        }
      ],
      "source": [
        "len(pages)\n",
        "\n",
        "page = pages[0]\n",
        "print(page.page_content[0:500])\n",
        "\n",
        "page.metadata"
      ]
    },
    {
      "cell_type": "markdown",
      "id": "jv999yitPEWJ",
      "metadata": {
        "id": "jv999yitPEWJ"
      },
      "source": [
        "# **URL**"
      ]
    },
    {
      "cell_type": "code",
      "execution_count": 6,
      "id": "04070f0f",
      "metadata": {
        "colab": {
          "base_uri": "https://localhost:8080/",
          "height": 90
        },
        "id": "04070f0f",
        "outputId": "c147eeaa-33b8-4b94-a529-3bdf5c363f14"
      },
      "outputs": [
        {
          "name": "stderr",
          "output_type": "stream",
          "text": [
            "WARNING:langchain_community.utils.user_agent:USER_AGENT environment variable not set, consider setting it to identify your requests.\n"
          ]
        },
        {
          "data": {
            "application/vnd.google.colaboratory.intrinsic+json": {
              "type": "string"
            },
            "text/plain": [
              "'Account Suspended!\\nPlease contact our support team for further assistance.\\n\\n*If you’re the owner of this website and have questions, reach out to Bluehost. We’re happy to help.'"
            ]
          },
          "execution_count": 6,
          "metadata": {},
          "output_type": "execute_result"
        }
      ],
      "source": [
        "from langchain.document_loaders import WebBaseLoader\n",
        "\n",
        "loader = WebBaseLoader(\"https://swayaan.com/\")\n",
        "\n",
        "docs = loader.load()\n",
        "content = docs[0].page_content.strip()\n",
        "content[:1000]"
      ]
    },
    {
      "cell_type": "markdown",
      "id": "HTF0Y2VFPI7r",
      "metadata": {
        "id": "HTF0Y2VFPI7r"
      },
      "source": [
        "# **CSV**"
      ]
    },
    {
      "cell_type": "code",
      "execution_count": null,
      "id": "RtxvLa3VOuVa",
      "metadata": {
        "colab": {
          "base_uri": "https://localhost:8080/"
        },
        "id": "RtxvLa3VOuVa",
        "outputId": "c6d3b852-fad3-488a-8de5-b24d744da8a7"
      },
      "outputs": [
        {
          "name": "stdout",
          "output_type": "stream",
          "text": [
            "page_content='Employee ID: 1\n",
            "Employee Name: John Doe\n",
            "Designation: Software Engineer\n",
            "Tools Used: Eclipse, Git, JIRA\n",
            "Date of Birth: 15-03-1985\n",
            "Salary: $75,000\n",
            "Hire Date: 20-06-2010\n",
            ": ' metadata={'source': '/content/employee.csv', 'row': 0}\n",
            "page_content='Employee ID: 2\n",
            "Employee Name: Jane Smith\n",
            "Designation: UI/UX Designer\n",
            "Tools Used: Figma, Adobe XD, Sketch\n",
            "Date of Birth: 22-08-1990\n",
            "Salary: $55,000\n",
            "Hire Date: 10-02-2019\n",
            ": ' metadata={'source': '/content/employee.csv', 'row': 1}\n",
            "page_content='Employee ID: 3\n",
            "Employee Name: Alice Brown\n",
            "Designation: Database Administrator\n",
            "Tools Used: MySQL, MongoDB, Oracle\n",
            "Date of Birth: 10-11-1988\n",
            "Salary: $60,000\n",
            "Hire Date: 05-04-2015\n",
            ": ' metadata={'source': '/content/employee.csv', 'row': 2}\n",
            "page_content='Employee ID: 4\n",
            "Employee Name: Bob White\n",
            "Designation: DevOps Engineer\n",
            "Tools Used: Jenkins, Docker, Kubernetes\n",
            "Date of Birth: 02-04-1980\n",
            "Salary: $80,000\n",
            "Hire Date: 15-09-2013\n",
            ": ' metadata={'source': '/content/employee.csv', 'row': 3}\n"
          ]
        }
      ],
      "source": [
        "from langchain_community.document_loaders.csv_loader import CSVLoader\n",
        "\n",
        "file_path = (\n",
        "    \"./content/employee.csv\"\n",
        ")\n",
        "\n",
        "loader = CSVLoader(file_path=file_path)\n",
        "data = loader.load()\n",
        "\n",
        "for record in data[:4]:\n",
        "    print(record)"
      ]
    },
    {
      "cell_type": "markdown",
      "id": "uwzCj-wIPgIL",
      "metadata": {
        "id": "uwzCj-wIPgIL"
      },
      "source": [
        "# **Let's Do an Activity**\n",
        "\n",
        "## **Objective**\n",
        "\n",
        "Practice document loading techniques with LangChain to fetch and process content from various sources such as PDFs, URLs, and CSV files.\n",
        "\n",
        "## **Scenario**\n",
        "\n",
        "You are developing a data processing module that needs to retrieve and analyze information from different types of documents. This activity will help you familiarize yourself with document loading capabilities in LangChain and understand how to handle diverse data sources effectively.\n",
        "\n",
        "## **Steps**\n",
        "\n",
        "* Load PDF Document\n",
        "* Load Web Content (URL)\n",
        "* Load CSV Data\n",
        "* Explore and Analyze"
      ]
    },
    {
      "cell_type": "code",
      "execution_count": null,
      "id": "qomHh87APgim",
      "metadata": {
        "id": "qomHh87APgim"
      },
      "outputs": [],
      "source": []
    }
  ],
  "metadata": {
    "colab": {
      "provenance": []
    },
    "kernelspec": {
      "display_name": "Python 3 (ipykernel)",
      "language": "python",
      "name": "python3"
    },
    "language_info": {
      "codemirror_mode": {
        "name": "ipython",
        "version": 3
      },
      "file_extension": ".py",
      "mimetype": "text/x-python",
      "name": "python",
      "nbconvert_exporter": "python",
      "pygments_lexer": "ipython3",
      "version": "3.11.4"
    }
  },
  "nbformat": 4,
  "nbformat_minor": 5
}
