{
  "cells": [
    {
      "cell_type": "markdown",
      "id": "J4Mv09eTNpDz",
      "metadata": {
        "id": "J4Mv09eTNpDz"
      },
      "source": [
        "# **Document Splitting**\n",
        "\n",
        "Document splitting is crucial because it ensures that semantically relevant content is grouped together within the same chunk. This is particularly important when answering questions or performing other tasks that rely on the contextual information present in the documents.\n",
        "\n"
      ]
    },
    {
      "cell_type": "code",
      "execution_count": null,
      "id": "5tL8w9jlQx9Y",
      "metadata": {
        "id": "5tL8w9jlQx9Y"
      },
      "outputs": [],
      "source": [
        "%%capture\n",
        "# update or install the necessary libraries\n",
        "!pip install --upgrade langchain langchain_community langchain-openai\n",
        "!pip install pypdf\n",
        "!pip install tiktoken\n",
        "!pip install --upgrade python-dotenv"
      ]
    },
    {
      "cell_type": "code",
      "execution_count": null,
      "id": "d004c36b",
      "metadata": {
        "id": "d004c36b"
      },
      "outputs": [],
      "source": [
        "import os\n",
        "from dotenv import load_dotenv\n",
        "\n",
        "# Load environment variables from .env file\n",
        "load_dotenv()\n",
        "\n",
        "os.environ[\"OPENAI_API_VERSION\"] = os.getenv('OPENAI_API_VERSION')\n",
        "os.environ[\"AZURE_OPENAI_ENDPOINT\"] = os.getenv('AZURE_OPENAI_ENDPOINT')\n",
        "os.environ[\"AZURE_OPENAI_API_KEY\"] = os.getenv('AZURE_OPENAI_API_KEY')"
      ]
    },
    {
      "cell_type": "code",
      "execution_count": 3,
      "id": "d3b0e2f6",
      "metadata": {
        "id": "d3b0e2f6"
      },
      "outputs": [],
      "source": [
        "from langchain.text_splitter import RecursiveCharacterTextSplitter, CharacterTextSplitter"
      ]
    },
    {
      "cell_type": "markdown",
      "id": "Ysx_tvIuOZIY",
      "metadata": {
        "id": "Ysx_tvIuOZIY"
      },
      "source": [
        "## **RecursiveCharacterTextSplitter**\n",
        "\n",
        "The RecursiveCharacterTextSplitter is recommended for generic text splitting. It splits the text based on a hierarchy of separators, starting with double newlines (\\n\\n), then single newlines (\\n), spaces ( ), and finally, individual characters. This approach aims to preserve the structure and coherence of the text by prioritizing splitting at natural boundaries like paragraphs and sentences."
      ]
    },
    {
      "cell_type": "code",
      "execution_count": 4,
      "id": "b80190a8",
      "metadata": {
        "id": "b80190a8"
      },
      "outputs": [],
      "source": [
        "chunk_size = 15\n",
        "chunk_overlap = 4\n",
        "\n",
        "r_splitter = RecursiveCharacterTextSplitter(\n",
        "    chunk_size=chunk_size,\n",
        "    chunk_overlap=chunk_overlap\n",
        ")"
      ]
    },
    {
      "cell_type": "code",
      "execution_count": 5,
      "id": "141da019",
      "metadata": {
        "colab": {
          "base_uri": "https://localhost:8080/"
        },
        "id": "141da019",
        "outputId": "58650379-0041-43e6-dea8-7b62f2874d3d"
      },
      "outputs": [
        {
          "data": {
            "text/plain": [
              "['employeemanagem', 'agementsystem']"
            ]
          },
          "execution_count": 5,
          "metadata": {},
          "output_type": "execute_result"
        }
      ],
      "source": [
        "text1 = 'employeemanagementsystem'\n",
        "\n",
        "r_splitter.split_text(text1)"
      ]
    },
    {
      "cell_type": "code",
      "execution_count": 6,
      "id": "Bzi_gCs6SiUd",
      "metadata": {
        "colab": {
          "base_uri": "https://localhost:8080/"
        },
        "id": "Bzi_gCs6SiUd",
        "outputId": "b7d0e1af-4caa-44c3-c267-089463445937"
      },
      "outputs": [
        {
          "data": {
            "text/plain": [
              "['employeemanagem', 'agementsystemar', 'emarch']"
            ]
          },
          "execution_count": 6,
          "metadata": {},
          "output_type": "execute_result"
        }
      ],
      "source": [
        "text2 = 'employeemanagementsystemarch'\n",
        "\n",
        "r_splitter.split_text(text2)"
      ]
    },
    {
      "cell_type": "markdown",
      "id": "PLIBa5-3Oseg",
      "metadata": {
        "id": "PLIBa5-3Oseg"
      },
      "source": [
        "## **CharacterTextSplitter**\n",
        "\n",
        "The CharacterTextSplitter is a more basic splitter that splits the text based on a single character separator, such as a space or a newline. This splitter is useful when dealing with text that doesn't have a clear structure or when you want to split the text at specific points.\n",
        "\n"
      ]
    },
    {
      "cell_type": "code",
      "execution_count": 7,
      "id": "H_Q3D4vnOkiZ",
      "metadata": {
        "id": "H_Q3D4vnOkiZ"
      },
      "outputs": [],
      "source": [
        "c_splitter = CharacterTextSplitter(\n",
        "    chunk_size=chunk_size,\n",
        "    chunk_overlap=chunk_overlap\n",
        ")"
      ]
    },
    {
      "cell_type": "code",
      "execution_count": 8,
      "id": "028320a0",
      "metadata": {
        "colab": {
          "base_uri": "https://localhost:8080/"
        },
        "id": "028320a0",
        "outputId": "19273d1a-fb66-4eb6-efe2-37ffe6eebd9b"
      },
      "outputs": [
        {
          "data": {
            "text/plain": [
              "['e m p l o y e e', 'e e m a n a g e', 'g e m e n t s y', 's y s t e m']"
            ]
          },
          "execution_count": 8,
          "metadata": {},
          "output_type": "execute_result"
        }
      ],
      "source": [
        "text3 = \"e m p l o y e e m a n a g e m e n t s y s t e m\"\n",
        "r_splitter.split_text(text3)\n",
        "c_splitter.split_text(text3)\n",
        "c_splitter = CharacterTextSplitter(\n",
        "    chunk_size=chunk_size,\n",
        "    chunk_overlap=chunk_overlap,\n",
        "    separator = ' '\n",
        ")\n",
        "c_splitter.split_text(text3)"
      ]
    },
    {
      "cell_type": "markdown",
      "id": "LUhtRh_RTiA1",
      "metadata": {
        "id": "LUhtRh_RTiA1"
      },
      "source": [
        "# **Recursive splitting details**\n",
        "\n",
        "\n",
        "RecursiveCharacterTextSplitter is recommended for generic text.\n",
        "\n"
      ]
    },
    {
      "cell_type": "code",
      "execution_count": 9,
      "id": "b1bc9199",
      "metadata": {
        "id": "b1bc9199"
      },
      "outputs": [],
      "source": [
        "some_text = \"\"\"When writing documents, writers will use document structure to group content. \\\n",
        "This can convey to the reader, which idea's are related. For example, closely related ideas \\\n",
        "are in sentances. Similar ideas are in paragraphs. Paragraphs form a document. \\n\\n  \\\n",
        "Paragraphs are often delimited with a carriage return or two carriage returns. \\\n",
        "Carriage returns are the \"backslash n\" you see embedded in this string. \\\n",
        "Sentences have a period at the end, but also, have a space.\\\n",
        "and words are separated by space.\"\"\""
      ]
    },
    {
      "cell_type": "code",
      "execution_count": 10,
      "id": "7235e106",
      "metadata": {
        "colab": {
          "base_uri": "https://localhost:8080/"
        },
        "id": "7235e106",
        "outputId": "848edb33-734f-4550-fa6c-337e40d7e64a"
      },
      "outputs": [
        {
          "data": {
            "text/plain": [
              "496"
            ]
          },
          "execution_count": 10,
          "metadata": {},
          "output_type": "execute_result"
        }
      ],
      "source": [
        "len(some_text)"
      ]
    },
    {
      "cell_type": "code",
      "execution_count": 11,
      "id": "27bc4657",
      "metadata": {
        "colab": {
          "base_uri": "https://localhost:8080/"
        },
        "id": "27bc4657",
        "outputId": "e35fc948-6b2c-483f-9231-0abdfb685496"
      },
      "outputs": [
        {
          "data": {
            "text/plain": [
              "['When writing documents, writers will use document structure to group content. This can convey to the reader, which idea\\'s are related. For example, closely related ideas are in sentances. Similar ideas are in paragraphs. Paragraphs form a document. \\n\\n Paragraphs are often delimited with a carriage return or two carriage returns. Carriage returns are the \"backslash n\" you see embedded in this string. Sentences have a period at the end, but also,',\n",
              " 'have a space.and words are separated by space.']"
            ]
          },
          "execution_count": 11,
          "metadata": {},
          "output_type": "execute_result"
        }
      ],
      "source": [
        "c_splitter = CharacterTextSplitter(\n",
        "    chunk_size=450,\n",
        "    chunk_overlap=0,\n",
        "    separator = ' '\n",
        ")\n",
        "r_splitter = RecursiveCharacterTextSplitter(\n",
        "    chunk_size=343,\n",
        "    chunk_overlap=0,\n",
        "    separators=[\"\\n\\n\", \"\\n\", \" \", \"\"]\n",
        ")\n",
        "\n",
        "c_splitter.split_text(some_text)\n"
      ]
    },
    {
      "cell_type": "code",
      "execution_count": 12,
      "id": "1129f129",
      "metadata": {
        "colab": {
          "base_uri": "https://localhost:8080/"
        },
        "id": "1129f129",
        "outputId": "59d5d12e-647f-4ca4-e115-307f4e5daae7"
      },
      "outputs": [
        {
          "data": {
            "text/plain": [
              "[\"When writing documents, writers will use document structure to group content. This can convey to the reader, which idea's are related. For example,\",\n",
              " 'closely related ideas are in sentances. Similar ideas are in paragraphs. Paragraphs form a document.',\n",
              " 'Paragraphs are often delimited with a carriage return or two carriage returns. Carriage returns are the \"backslash n\" you see embedded in this',\n",
              " 'string. Sentences have a period at the end, but also, have a space.and words are separated by space.']"
            ]
          },
          "execution_count": 12,
          "metadata": {},
          "output_type": "execute_result"
        }
      ],
      "source": [
        "r_splitter = RecursiveCharacterTextSplitter(\n",
        "    chunk_size=150,\n",
        "    chunk_overlap=0,\n",
        "    separators=[\"\\n\\n\", \"\\n\", \"\\. \", \" \", \"\"]\n",
        ")\n",
        "r_splitter.split_text(some_text)\n",
        "\n",
        "r_splitter = RecursiveCharacterTextSplitter(\n",
        "    chunk_size=150,\n",
        "    chunk_overlap=0,\n",
        "    separators=[\"\\n\\n\", \"\\n\", \"(?<=\\. )\", \" \", \"\"]\n",
        ")\n",
        "r_splitter.split_text(some_text)\n",
        "\n"
      ]
    },
    {
      "cell_type": "code",
      "execution_count": null,
      "id": "e128d8c0",
      "metadata": {
        "id": "e128d8c0"
      },
      "outputs": [],
      "source": [
        "from langchain.document_loaders import PyPDFLoader\n",
        "loader = PyPDFLoader(\"./content/MachineLearning-Lecture01.pdf\")\n",
        "pages = loader.load()"
      ]
    },
    {
      "cell_type": "code",
      "execution_count": 15,
      "id": "308e62c3",
      "metadata": {
        "colab": {
          "base_uri": "https://localhost:8080/"
        },
        "id": "308e62c3",
        "outputId": "d9d59d0b-efcb-4f54-aa10-d4acd6ab9b9f"
      },
      "outputs": [
        {
          "data": {
            "text/plain": [
              "22"
            ]
          },
          "execution_count": 15,
          "metadata": {},
          "output_type": "execute_result"
        }
      ],
      "source": [
        "from langchain.text_splitter import CharacterTextSplitter\n",
        "text_splitter = CharacterTextSplitter(\n",
        "    separator=\"\\n\",\n",
        "    chunk_size=1000,\n",
        "    chunk_overlap=150,\n",
        "    length_function=len\n",
        ")\n",
        "\n",
        "docs = text_splitter.split_documents(pages)\n",
        "\n",
        "len(docs)\n",
        "len(pages)"
      ]
    },
    {
      "cell_type": "markdown",
      "id": "VJf2gLvaTyos",
      "metadata": {
        "id": "VJf2gLvaTyos"
      },
      "source": [
        "# **Token splitting**\n",
        "\n",
        "The TokenTextSplitter splits the text based on token count rather than character count. This can be useful because many language models have context windows designated by token count rather than character count. Tokens are often approximately four characters long, so splitting based on token count can provide a better representation of how the language model will process the text."
      ]
    },
    {
      "cell_type": "code",
      "execution_count": 16,
      "id": "c4c1cadf",
      "metadata": {
        "id": "c4c1cadf"
      },
      "outputs": [],
      "source": [
        "from langchain.text_splitter import TokenTextSplitter\n",
        "\n",
        "text_splitter = TokenTextSplitter(chunk_size=1, chunk_overlap=0)"
      ]
    },
    {
      "cell_type": "code",
      "execution_count": 17,
      "id": "644b957d",
      "metadata": {
        "colab": {
          "base_uri": "https://localhost:8080/"
        },
        "id": "644b957d",
        "outputId": "02afb992-e283-441c-cc10-c665d2017b4c"
      },
      "outputs": [
        {
          "data": {
            "text/plain": [
              "['Hello', ' World']"
            ]
          },
          "execution_count": 17,
          "metadata": {},
          "output_type": "execute_result"
        }
      ],
      "source": [
        "text1 = \"Hello World\"\n",
        "text_splitter.split_text(text1)"
      ]
    },
    {
      "cell_type": "code",
      "execution_count": 18,
      "id": "f8894645",
      "metadata": {
        "id": "f8894645"
      },
      "outputs": [],
      "source": [
        "text_splitter = TokenTextSplitter(chunk_size=10, chunk_overlap=0)"
      ]
    },
    {
      "cell_type": "code",
      "execution_count": 19,
      "id": "24d9d54a",
      "metadata": {
        "id": "24d9d54a"
      },
      "outputs": [],
      "source": [
        "docs = text_splitter.split_documents(pages)"
      ]
    },
    {
      "cell_type": "code",
      "execution_count": 20,
      "id": "f67ec33a",
      "metadata": {
        "colab": {
          "base_uri": "https://localhost:8080/"
        },
        "id": "f67ec33a",
        "outputId": "eb830f3a-eda0-4a63-ba82-7966a5989d63"
      },
      "outputs": [
        {
          "data": {
            "text/plain": [
              "Document(metadata={'producer': 'Acrobat Distiller 8.1.0 (Windows)', 'creator': 'PScript5.dll Version 5.2.2', 'creationdate': '2008-07-11T11:25:23-07:00', 'author': '', 'moddate': '2008-07-11T11:25:23-07:00', 'title': '', 'source': '/content/MachineLearning-Lecture01.pdf', 'total_pages': 22, 'page': 0, 'page_label': '1'}, page_content='MachineLearning-Lecture01  \\n')"
            ]
          },
          "execution_count": 20,
          "metadata": {},
          "output_type": "execute_result"
        }
      ],
      "source": [
        "docs[0]"
      ]
    },
    {
      "cell_type": "code",
      "execution_count": 21,
      "id": "c3987d89",
      "metadata": {
        "colab": {
          "base_uri": "https://localhost:8080/"
        },
        "id": "c3987d89",
        "outputId": "c23357e0-1d2d-42d6-815e-e96a2d2f70cd"
      },
      "outputs": [
        {
          "data": {
            "text/plain": [
              "{'producer': 'Acrobat Distiller 8.1.0 (Windows)',\n",
              " 'creator': 'PScript5.dll Version 5.2.2',\n",
              " 'creationdate': '2008-07-11T11:25:23-07:00',\n",
              " 'author': '',\n",
              " 'moddate': '2008-07-11T11:25:23-07:00',\n",
              " 'title': '',\n",
              " 'source': '/content/MachineLearning-Lecture01.pdf',\n",
              " 'total_pages': 22,\n",
              " 'page': 0,\n",
              " 'page_label': '1'}"
            ]
          },
          "execution_count": 21,
          "metadata": {},
          "output_type": "execute_result"
        }
      ],
      "source": [
        "pages[0].metadata"
      ]
    },
    {
      "cell_type": "markdown",
      "id": "9XshdUJfPoc_",
      "metadata": {
        "id": "9XshdUJfPoc_"
      },
      "source": [
        "# **Let's Do an Activity**\n",
        "\n",
        "## **Objective**\n",
        "\n",
        "Practice document splitting techniques with LangChain to manage large text content effectively. You will learn to use different splitters to break down text into manageable chunks, which is essential for tasks like text analysis, summarization, and feeding content into language models.\n",
        "\n",
        "## **Scenario**\n",
        "\n",
        "You are developing a text analysis module that processes large documents. This activity will help you understand how to use various text splitting techniques in LangChain to handle large text inputs efficiently.\n",
        "\n",
        "## **Steps**\n",
        "\n",
        "* Load a Sample Document\n",
        "* RecursiveCharacterTextSplitter\n",
        "\n",
        "  * Use `RecursiveCharacterTextSplitter` to split the text based on a hierarchy of separators.\n",
        "  * Set a `chunk_size` and `chunk_overlap` to see how the text is divided.\n",
        "  * Experiment with different separators to observe how the splitting changes.\n",
        "\n",
        "* CharacterTextSplitter\n",
        "\n",
        "  * Use `CharacterTextSplitter` to split the text based on a single character separator.\n",
        "  * Compare the results with the recursive splitter to understand the differences.\n",
        "\n",
        "* TokenTextSplitter\n",
        "\n",
        "  * Use `TokenTextSplitter` to split the text based on token count.\n",
        "  * Set a `chunk_size` and `chunk_overlap` to see how the text is divided.\n",
        "  * Understand the importance of token-based splitting for language model processing.\n",
        "\n",
        "* Exploration and Analysis\n",
        "\n",
        "  * Experiment with different `chunk_size` and `chunk_overlap` settings to see how they affect the splitting.\n",
        "  * Use various text samples and documents to explore the effectiveness of each splitting technique."
      ]
    }
  ],
  "metadata": {
    "colab": {
      "provenance": []
    },
    "kernelspec": {
      "display_name": "Python 3 (ipykernel)",
      "language": "python",
      "name": "python3"
    },
    "language_info": {
      "codemirror_mode": {
        "name": "ipython",
        "version": 3
      },
      "file_extension": ".py",
      "mimetype": "text/x-python",
      "name": "python",
      "nbconvert_exporter": "python",
      "pygments_lexer": "ipython3",
      "version": "3.11.4"
    }
  },
  "nbformat": 4,
  "nbformat_minor": 5
}
