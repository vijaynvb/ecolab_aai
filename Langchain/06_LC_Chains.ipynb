{
  "cells": [
    {
      "cell_type": "markdown",
      "id": "ZZDU_ajpYu9F",
      "metadata": {
        "id": "ZZDU_ajpYu9F"
      },
      "source": [
        "# **Chains**\n",
        "\n",
        "chains are a fundamental concept that allows you to execute complex tasks in a structured and efficient way.\n",
        "\n",
        "## **Why Chains?**\n",
        "\n",
        "Chains are invaluable due to their capacity to effortlessly blend diverse components, shaping a singular and coherent application. Through the creation of chains, multiple elements can seamlessly come together. Imagine this scenario: a chain is crafted to take in user input, polish it using a PromptTemplate, and subsequently pass on this refined response to a large language model (LLM). This streamlined process not only simplifies but also enriches the overall functionality of the system. In essence, chains serve as the linchpin, seamlessly connecting different parts of the application and enhancing its capabilities.\n"
      ]
    },
    {
      "cell_type": "code",
      "execution_count": null,
      "id": "548b1c6c",
      "metadata": {
        "id": "548b1c6c"
      },
      "outputs": [],
      "source": [
        "%%capture\n",
        "# update or install the necessary libraries\n",
        "!pip install --upgrade langchain langchain_community langchain-openai\n",
        "!pip install pandas\n",
        "!pip install --upgrade python-dotenv"
      ]
    },
    {
      "cell_type": "code",
      "execution_count": null,
      "id": "40224a75",
      "metadata": {
        "id": "40224a75"
      },
      "outputs": [],
      "source": [
        "import os\n",
        "from dotenv import load_dotenv\n",
        "\n",
        "# Load environment variables from .env file\n",
        "load_dotenv()\n",
        "\n",
        "os.environ[\"OPENAI_API_VERSION\"] = os.getenv('OPENAI_API_VERSION')\n",
        "os.environ[\"AZURE_OPENAI_ENDPOINT\"] = os.getenv('AZURE_OPENAI_ENDPOINT')\n",
        "os.environ[\"AZURE_OPENAI_API_KEY\"] = os.getenv('AZURE_OPENAI_API_KEY')"
      ]
    },
    {
      "cell_type": "code",
      "execution_count": 6,
      "id": "3485d1af",
      "metadata": {
        "id": "3485d1af"
      },
      "outputs": [],
      "source": [
        "import pandas as pd\n",
        "df = pd.read_csv(\"/content/employee.csv\")"
      ]
    },
    {
      "cell_type": "code",
      "execution_count": 7,
      "id": "4559e482",
      "metadata": {
        "colab": {
          "base_uri": "https://localhost:8080/",
          "height": 414
        },
        "id": "4559e482",
        "outputId": "8e2e2f87-0268-4898-87b2-f8b88619b610"
      },
      "outputs": [
        {
          "data": {
            "application/vnd.google.colaboratory.intrinsic+json": {
              "summary": "{\n  \"name\": \"df\",\n  \"rows\": 20,\n  \"fields\": [\n    {\n      \"column\": \"Employee ID\",\n      \"properties\": {\n        \"dtype\": \"number\",\n        \"std\": 5,\n        \"min\": 1,\n        \"max\": 20,\n        \"num_unique_values\": 20,\n        \"samples\": [\n          1,\n          18,\n          16\n        ],\n        \"semantic_type\": \"\",\n        \"description\": \"\"\n      }\n    },\n    {\n      \"column\": \"Employee Name\",\n      \"properties\": {\n        \"dtype\": \"string\",\n        \"num_unique_values\": 20,\n        \"samples\": [\n          \"John Doe\",\n          \"Patty Bronze\",\n          \"Nancy Gold\"\n        ],\n        \"semantic_type\": \"\",\n        \"description\": \"\"\n      }\n    },\n    {\n      \"column\": \"Designation\",\n      \"properties\": {\n        \"dtype\": \"string\",\n        \"num_unique_values\": 20,\n        \"samples\": [\n          \"Software Engineer\",\n          \"Scrum Master\",\n          \"Network Engineer\"\n        ],\n        \"semantic_type\": \"\",\n        \"description\": \"\"\n      }\n    },\n    {\n      \"column\": \"Tools Used\",\n      \"properties\": {\n        \"dtype\": \"string\",\n        \"num_unique_values\": 20,\n        \"samples\": [\n          \"Eclipse, Git, JIRA\",\n          \"Scrumwise, JIRA, Trello\",\n          \"Cisco IOS, Juniper, OpenVPN\"\n        ],\n        \"semantic_type\": \"\",\n        \"description\": \"\"\n      }\n    },\n    {\n      \"column\": \"Date of Birth\",\n      \"properties\": {\n        \"dtype\": \"object\",\n        \"num_unique_values\": 20,\n        \"samples\": [\n          \"15-03-1985\",\n          \"14-06-1988\",\n          \"09-08-1984\"\n        ],\n        \"semantic_type\": \"\",\n        \"description\": \"\"\n      }\n    },\n    {\n      \"column\": \"Salary\",\n      \"properties\": {\n        \"dtype\": \"string\",\n        \"num_unique_values\": 15,\n        \"samples\": [\n          \"$88,000\",\n          \"$52,000\",\n          \"$75,000\"\n        ],\n        \"semantic_type\": \"\",\n        \"description\": \"\"\n      }\n    },\n    {\n      \"column\": \"Hire Date\",\n      \"properties\": {\n        \"dtype\": \"object\",\n        \"num_unique_values\": 20,\n        \"samples\": [\n          \"20-06-2010\",\n          \"02-04-2018\",\n          \"11-12-2019\"\n        ],\n        \"semantic_type\": \"\",\n        \"description\": \"\"\n      }\n    },\n    {\n      \"column\": \"Unnamed: 7\",\n      \"properties\": {\n        \"dtype\": \"number\",\n        \"std\": null,\n        \"min\": null,\n        \"max\": null,\n        \"num_unique_values\": 0,\n        \"samples\": [],\n        \"semantic_type\": \"\",\n        \"description\": \"\"\n      }\n    },\n    {\n      \"column\": \"Unnamed: 8\",\n      \"properties\": {\n        \"dtype\": \"number\",\n        \"std\": null,\n        \"min\": null,\n        \"max\": null,\n        \"num_unique_values\": 0,\n        \"samples\": [],\n        \"semantic_type\": \"\",\n        \"description\": \"\"\n      }\n    },\n    {\n      \"column\": \"Unnamed: 9\",\n      \"properties\": {\n        \"dtype\": \"number\",\n        \"std\": null,\n        \"min\": null,\n        \"max\": null,\n        \"num_unique_values\": 0,\n        \"samples\": [],\n        \"semantic_type\": \"\",\n        \"description\": \"\"\n      }\n    },\n    {\n      \"column\": \"Unnamed: 10\",\n      \"properties\": {\n        \"dtype\": \"number\",\n        \"std\": null,\n        \"min\": null,\n        \"max\": null,\n        \"num_unique_values\": 0,\n        \"samples\": [],\n        \"semantic_type\": \"\",\n        \"description\": \"\"\n      }\n    },\n    {\n      \"column\": \"Unnamed: 11\",\n      \"properties\": {\n        \"dtype\": \"number\",\n        \"std\": null,\n        \"min\": null,\n        \"max\": null,\n        \"num_unique_values\": 0,\n        \"samples\": [],\n        \"semantic_type\": \"\",\n        \"description\": \"\"\n      }\n    }\n  ]\n}",
              "type": "dataframe",
              "variable_name": "df"
            },
            "text/html": [
              "\n",
              "  <div id=\"df-53fc5d97-2700-4c83-9563-3f061d0d10b1\" class=\"colab-df-container\">\n",
              "    <div>\n",
              "<style scoped>\n",
              "    .dataframe tbody tr th:only-of-type {\n",
              "        vertical-align: middle;\n",
              "    }\n",
              "\n",
              "    .dataframe tbody tr th {\n",
              "        vertical-align: top;\n",
              "    }\n",
              "\n",
              "    .dataframe thead th {\n",
              "        text-align: right;\n",
              "    }\n",
              "</style>\n",
              "<table border=\"1\" class=\"dataframe\">\n",
              "  <thead>\n",
              "    <tr style=\"text-align: right;\">\n",
              "      <th></th>\n",
              "      <th>Employee ID</th>\n",
              "      <th>Employee Name</th>\n",
              "      <th>Designation</th>\n",
              "      <th>Tools Used</th>\n",
              "      <th>Date of Birth</th>\n",
              "      <th>Salary</th>\n",
              "      <th>Hire Date</th>\n",
              "      <th>Unnamed: 7</th>\n",
              "      <th>Unnamed: 8</th>\n",
              "      <th>Unnamed: 9</th>\n",
              "      <th>Unnamed: 10</th>\n",
              "      <th>Unnamed: 11</th>\n",
              "    </tr>\n",
              "  </thead>\n",
              "  <tbody>\n",
              "    <tr>\n",
              "      <th>0</th>\n",
              "      <td>1</td>\n",
              "      <td>John Doe</td>\n",
              "      <td>Software Engineer</td>\n",
              "      <td>Eclipse, Git, JIRA</td>\n",
              "      <td>15-03-1985</td>\n",
              "      <td>$75,000</td>\n",
              "      <td>20-06-2010</td>\n",
              "      <td>NaN</td>\n",
              "      <td>NaN</td>\n",
              "      <td>NaN</td>\n",
              "      <td>NaN</td>\n",
              "      <td>NaN</td>\n",
              "    </tr>\n",
              "    <tr>\n",
              "      <th>1</th>\n",
              "      <td>2</td>\n",
              "      <td>Jane Smith</td>\n",
              "      <td>UI/UX Designer</td>\n",
              "      <td>Figma, Adobe XD, Sketch</td>\n",
              "      <td>22-08-1990</td>\n",
              "      <td>$55,000</td>\n",
              "      <td>10-02-2019</td>\n",
              "      <td>NaN</td>\n",
              "      <td>NaN</td>\n",
              "      <td>NaN</td>\n",
              "      <td>NaN</td>\n",
              "      <td>NaN</td>\n",
              "    </tr>\n",
              "    <tr>\n",
              "      <th>2</th>\n",
              "      <td>3</td>\n",
              "      <td>Alice Brown</td>\n",
              "      <td>Database Administrator</td>\n",
              "      <td>MySQL, MongoDB, Oracle</td>\n",
              "      <td>10-11-1988</td>\n",
              "      <td>$60,000</td>\n",
              "      <td>05-04-2015</td>\n",
              "      <td>NaN</td>\n",
              "      <td>NaN</td>\n",
              "      <td>NaN</td>\n",
              "      <td>NaN</td>\n",
              "      <td>NaN</td>\n",
              "    </tr>\n",
              "    <tr>\n",
              "      <th>3</th>\n",
              "      <td>4</td>\n",
              "      <td>Bob White</td>\n",
              "      <td>DevOps Engineer</td>\n",
              "      <td>Jenkins, Docker, Kubernetes</td>\n",
              "      <td>02-04-1980</td>\n",
              "      <td>$80,000</td>\n",
              "      <td>15-09-2013</td>\n",
              "      <td>NaN</td>\n",
              "      <td>NaN</td>\n",
              "      <td>NaN</td>\n",
              "      <td>NaN</td>\n",
              "      <td>NaN</td>\n",
              "    </tr>\n",
              "    <tr>\n",
              "      <th>4</th>\n",
              "      <td>5</td>\n",
              "      <td>Charlie Black</td>\n",
              "      <td>QA Engineer</td>\n",
              "      <td>Selenium, JUnit, TestRail</td>\n",
              "      <td>18-07-1992</td>\n",
              "      <td>$65,000</td>\n",
              "      <td>30-10-2020</td>\n",
              "      <td>NaN</td>\n",
              "      <td>NaN</td>\n",
              "      <td>NaN</td>\n",
              "      <td>NaN</td>\n",
              "      <td>NaN</td>\n",
              "    </tr>\n",
              "  </tbody>\n",
              "</table>\n",
              "</div>\n",
              "    <div class=\"colab-df-buttons\">\n",
              "\n",
              "  <div class=\"colab-df-container\">\n",
              "    <button class=\"colab-df-convert\" onclick=\"convertToInteractive('df-53fc5d97-2700-4c83-9563-3f061d0d10b1')\"\n",
              "            title=\"Convert this dataframe to an interactive table.\"\n",
              "            style=\"display:none;\">\n",
              "\n",
              "  <svg xmlns=\"http://www.w3.org/2000/svg\" height=\"24px\" viewBox=\"0 -960 960 960\">\n",
              "    <path d=\"M120-120v-720h720v720H120Zm60-500h600v-160H180v160Zm220 220h160v-160H400v160Zm0 220h160v-160H400v160ZM180-400h160v-160H180v160Zm440 0h160v-160H620v160ZM180-180h160v-160H180v160Zm440 0h160v-160H620v160Z\"/>\n",
              "  </svg>\n",
              "    </button>\n",
              "\n",
              "  <style>\n",
              "    .colab-df-container {\n",
              "      display:flex;\n",
              "      gap: 12px;\n",
              "    }\n",
              "\n",
              "    .colab-df-convert {\n",
              "      background-color: #E8F0FE;\n",
              "      border: none;\n",
              "      border-radius: 50%;\n",
              "      cursor: pointer;\n",
              "      display: none;\n",
              "      fill: #1967D2;\n",
              "      height: 32px;\n",
              "      padding: 0 0 0 0;\n",
              "      width: 32px;\n",
              "    }\n",
              "\n",
              "    .colab-df-convert:hover {\n",
              "      background-color: #E2EBFA;\n",
              "      box-shadow: 0px 1px 2px rgba(60, 64, 67, 0.3), 0px 1px 3px 1px rgba(60, 64, 67, 0.15);\n",
              "      fill: #174EA6;\n",
              "    }\n",
              "\n",
              "    .colab-df-buttons div {\n",
              "      margin-bottom: 4px;\n",
              "    }\n",
              "\n",
              "    [theme=dark] .colab-df-convert {\n",
              "      background-color: #3B4455;\n",
              "      fill: #D2E3FC;\n",
              "    }\n",
              "\n",
              "    [theme=dark] .colab-df-convert:hover {\n",
              "      background-color: #434B5C;\n",
              "      box-shadow: 0px 1px 3px 1px rgba(0, 0, 0, 0.15);\n",
              "      filter: drop-shadow(0px 1px 2px rgba(0, 0, 0, 0.3));\n",
              "      fill: #FFFFFF;\n",
              "    }\n",
              "  </style>\n",
              "\n",
              "    <script>\n",
              "      const buttonEl =\n",
              "        document.querySelector('#df-53fc5d97-2700-4c83-9563-3f061d0d10b1 button.colab-df-convert');\n",
              "      buttonEl.style.display =\n",
              "        google.colab.kernel.accessAllowed ? 'block' : 'none';\n",
              "\n",
              "      async function convertToInteractive(key) {\n",
              "        const element = document.querySelector('#df-53fc5d97-2700-4c83-9563-3f061d0d10b1');\n",
              "        const dataTable =\n",
              "          await google.colab.kernel.invokeFunction('convertToInteractive',\n",
              "                                                    [key], {});\n",
              "        if (!dataTable) return;\n",
              "\n",
              "        const docLinkHtml = 'Like what you see? Visit the ' +\n",
              "          '<a target=\"_blank\" href=https://colab.research.google.com/notebooks/data_table.ipynb>data table notebook</a>'\n",
              "          + ' to learn more about interactive tables.';\n",
              "        element.innerHTML = '';\n",
              "        dataTable['output_type'] = 'display_data';\n",
              "        await google.colab.output.renderOutput(dataTable, element);\n",
              "        const docLink = document.createElement('div');\n",
              "        docLink.innerHTML = docLinkHtml;\n",
              "        element.appendChild(docLink);\n",
              "      }\n",
              "    </script>\n",
              "  </div>\n",
              "\n",
              "\n",
              "    <div id=\"df-1770f965-e270-4ca9-98f7-ccdcdaea6d1b\">\n",
              "      <button class=\"colab-df-quickchart\" onclick=\"quickchart('df-1770f965-e270-4ca9-98f7-ccdcdaea6d1b')\"\n",
              "                title=\"Suggest charts\"\n",
              "                style=\"display:none;\">\n",
              "\n",
              "<svg xmlns=\"http://www.w3.org/2000/svg\" height=\"24px\"viewBox=\"0 0 24 24\"\n",
              "     width=\"24px\">\n",
              "    <g>\n",
              "        <path d=\"M19 3H5c-1.1 0-2 .9-2 2v14c0 1.1.9 2 2 2h14c1.1 0 2-.9 2-2V5c0-1.1-.9-2-2-2zM9 17H7v-7h2v7zm4 0h-2V7h2v10zm4 0h-2v-4h2v4z\"/>\n",
              "    </g>\n",
              "</svg>\n",
              "      </button>\n",
              "\n",
              "<style>\n",
              "  .colab-df-quickchart {\n",
              "      --bg-color: #E8F0FE;\n",
              "      --fill-color: #1967D2;\n",
              "      --hover-bg-color: #E2EBFA;\n",
              "      --hover-fill-color: #174EA6;\n",
              "      --disabled-fill-color: #AAA;\n",
              "      --disabled-bg-color: #DDD;\n",
              "  }\n",
              "\n",
              "  [theme=dark] .colab-df-quickchart {\n",
              "      --bg-color: #3B4455;\n",
              "      --fill-color: #D2E3FC;\n",
              "      --hover-bg-color: #434B5C;\n",
              "      --hover-fill-color: #FFFFFF;\n",
              "      --disabled-bg-color: #3B4455;\n",
              "      --disabled-fill-color: #666;\n",
              "  }\n",
              "\n",
              "  .colab-df-quickchart {\n",
              "    background-color: var(--bg-color);\n",
              "    border: none;\n",
              "    border-radius: 50%;\n",
              "    cursor: pointer;\n",
              "    display: none;\n",
              "    fill: var(--fill-color);\n",
              "    height: 32px;\n",
              "    padding: 0;\n",
              "    width: 32px;\n",
              "  }\n",
              "\n",
              "  .colab-df-quickchart:hover {\n",
              "    background-color: var(--hover-bg-color);\n",
              "    box-shadow: 0 1px 2px rgba(60, 64, 67, 0.3), 0 1px 3px 1px rgba(60, 64, 67, 0.15);\n",
              "    fill: var(--button-hover-fill-color);\n",
              "  }\n",
              "\n",
              "  .colab-df-quickchart-complete:disabled,\n",
              "  .colab-df-quickchart-complete:disabled:hover {\n",
              "    background-color: var(--disabled-bg-color);\n",
              "    fill: var(--disabled-fill-color);\n",
              "    box-shadow: none;\n",
              "  }\n",
              "\n",
              "  .colab-df-spinner {\n",
              "    border: 2px solid var(--fill-color);\n",
              "    border-color: transparent;\n",
              "    border-bottom-color: var(--fill-color);\n",
              "    animation:\n",
              "      spin 1s steps(1) infinite;\n",
              "  }\n",
              "\n",
              "  @keyframes spin {\n",
              "    0% {\n",
              "      border-color: transparent;\n",
              "      border-bottom-color: var(--fill-color);\n",
              "      border-left-color: var(--fill-color);\n",
              "    }\n",
              "    20% {\n",
              "      border-color: transparent;\n",
              "      border-left-color: var(--fill-color);\n",
              "      border-top-color: var(--fill-color);\n",
              "    }\n",
              "    30% {\n",
              "      border-color: transparent;\n",
              "      border-left-color: var(--fill-color);\n",
              "      border-top-color: var(--fill-color);\n",
              "      border-right-color: var(--fill-color);\n",
              "    }\n",
              "    40% {\n",
              "      border-color: transparent;\n",
              "      border-right-color: var(--fill-color);\n",
              "      border-top-color: var(--fill-color);\n",
              "    }\n",
              "    60% {\n",
              "      border-color: transparent;\n",
              "      border-right-color: var(--fill-color);\n",
              "    }\n",
              "    80% {\n",
              "      border-color: transparent;\n",
              "      border-right-color: var(--fill-color);\n",
              "      border-bottom-color: var(--fill-color);\n",
              "    }\n",
              "    90% {\n",
              "      border-color: transparent;\n",
              "      border-bottom-color: var(--fill-color);\n",
              "    }\n",
              "  }\n",
              "</style>\n",
              "\n",
              "      <script>\n",
              "        async function quickchart(key) {\n",
              "          const quickchartButtonEl =\n",
              "            document.querySelector('#' + key + ' button');\n",
              "          quickchartButtonEl.disabled = true;  // To prevent multiple clicks.\n",
              "          quickchartButtonEl.classList.add('colab-df-spinner');\n",
              "          try {\n",
              "            const charts = await google.colab.kernel.invokeFunction(\n",
              "                'suggestCharts', [key], {});\n",
              "          } catch (error) {\n",
              "            console.error('Error during call to suggestCharts:', error);\n",
              "          }\n",
              "          quickchartButtonEl.classList.remove('colab-df-spinner');\n",
              "          quickchartButtonEl.classList.add('colab-df-quickchart-complete');\n",
              "        }\n",
              "        (() => {\n",
              "          let quickchartButtonEl =\n",
              "            document.querySelector('#df-1770f965-e270-4ca9-98f7-ccdcdaea6d1b button');\n",
              "          quickchartButtonEl.style.display =\n",
              "            google.colab.kernel.accessAllowed ? 'block' : 'none';\n",
              "        })();\n",
              "      </script>\n",
              "    </div>\n",
              "\n",
              "    </div>\n",
              "  </div>\n"
            ],
            "text/plain": [
              "   Employee ID  Employee Name             Designation  \\\n",
              "0            1       John Doe       Software Engineer   \n",
              "1            2     Jane Smith          UI/UX Designer   \n",
              "2            3    Alice Brown  Database Administrator   \n",
              "3            4      Bob White         DevOps Engineer   \n",
              "4            5  Charlie Black             QA Engineer   \n",
              "\n",
              "                    Tools Used Date of Birth   Salary   Hire Date  Unnamed: 7  \\\n",
              "0           Eclipse, Git, JIRA    15-03-1985  $75,000  20-06-2010         NaN   \n",
              "1      Figma, Adobe XD, Sketch    22-08-1990  $55,000  10-02-2019         NaN   \n",
              "2       MySQL, MongoDB, Oracle    10-11-1988  $60,000  05-04-2015         NaN   \n",
              "3  Jenkins, Docker, Kubernetes    02-04-1980  $80,000  15-09-2013         NaN   \n",
              "4    Selenium, JUnit, TestRail    18-07-1992  $65,000  30-10-2020         NaN   \n",
              "\n",
              "   Unnamed: 8  Unnamed: 9  Unnamed: 10  Unnamed: 11  \n",
              "0         NaN         NaN          NaN          NaN  \n",
              "1         NaN         NaN          NaN          NaN  \n",
              "2         NaN         NaN          NaN          NaN  \n",
              "3         NaN         NaN          NaN          NaN  \n",
              "4         NaN         NaN          NaN          NaN  "
            ]
          },
          "execution_count": 7,
          "metadata": {},
          "output_type": "execute_result"
        }
      ],
      "source": [
        "df.head()"
      ]
    },
    {
      "cell_type": "markdown",
      "id": "PrxH7ELIZABK",
      "metadata": {
        "id": "PrxH7ELIZABK"
      },
      "source": [
        "# **LLM Chain** - **The simplest chain**\n",
        "\n",
        "The LLMChain is a foundational system that includes a PromptTemplate, an OpenAI model (such as a Large Language Model or a ChatModel), and optionally, an output parser. It operates by transforming input parameters using the PromptTemplate into a coherent prompt, which is then fed into the model. The resulting output is further refined and formatted into a usable form by the OutputParser, if provided. This structured approach ensures effective utilization of language models for various applications, enhancing their functionality and utility."
      ]
    },
    {
      "cell_type": "code",
      "execution_count": 27,
      "id": "201646f3",
      "metadata": {
        "id": "201646f3"
      },
      "outputs": [],
      "source": [
        "from langchain.prompts import ChatPromptTemplate\n",
        "from langchain.chains import LLMChain"
      ]
    },
    {
      "cell_type": "code",
      "execution_count": 28,
      "id": "437ec9e0",
      "metadata": {
        "id": "437ec9e0"
      },
      "outputs": [],
      "source": [
        "from langchain_openai import AzureChatOpenAI\n",
        "llm = AzureChatOpenAI(\n",
        "    deployment_name=\"gpt-4o\",\n",
        "    temperature = 0.5\n",
        ")"
      ]
    },
    {
      "cell_type": "code",
      "execution_count": 30,
      "id": "18955fef",
      "metadata": {
        "id": "18955fef"
      },
      "outputs": [],
      "source": [
        "prompt = ChatPromptTemplate.from_template(\n",
        "    \"What are the tools that need to be learned to earn the {designation}?,provide me one tool\"\n",
        ")"
      ]
    },
    {
      "cell_type": "code",
      "execution_count": 31,
      "id": "9fa1076c",
      "metadata": {
        "colab": {
          "base_uri": "https://localhost:8080/"
        },
        "id": "9fa1076c",
        "outputId": "7b45f07b-0dfa-4d58-e8e7-3b99550740bb"
      },
      "outputs": [
        {
          "name": "stderr",
          "output_type": "stream",
          "text": [
            "/tmp/ipython-input-31-1305865249.py:1: LangChainDeprecationWarning: The class `LLMChain` was deprecated in LangChain 0.1.17 and will be removed in 1.0. Use :meth:`~RunnableSequence, e.g., `prompt | llm`` instead.\n",
            "  chain = LLMChain(llm=llm, prompt=prompt)\n"
          ]
        }
      ],
      "source": [
        "chain = LLMChain(llm=llm, prompt=prompt)"
      ]
    },
    {
      "cell_type": "code",
      "execution_count": 32,
      "id": "786b37fb",
      "metadata": {
        "colab": {
          "base_uri": "https://localhost:8080/",
          "height": 229
        },
        "id": "786b37fb",
        "outputId": "f4ff8961-23d9-444d-fcb7-f1715377c66f"
      },
      "outputs": [
        {
          "name": "stderr",
          "output_type": "stream",
          "text": [
            "/tmp/ipython-input-32-4066474957.py:2: LangChainDeprecationWarning: The method `Chain.run` was deprecated in langchain 0.1.0 and will be removed in 1.0. Use :meth:`~invoke` instead.\n",
            "  chain.run(designation)\n"
          ]
        },
        {
          "data": {
            "application/vnd.google.colaboratory.intrinsic+json": {
              "type": "string"
            },
            "text/plain": [
              "'To become a DevOps Engineer, you need to be familiar with a variety of tools that span different stages of the software development lifecycle, including development, version control, CI/CD pipelines, configuration management, containerization, orchestration, monitoring, and more.\\n\\nHere is **one essential tool** to get started: \\n\\n### **Git (Version Control Tool)**\\n\\n- **What is Git?**\\n  Git is a distributed version control system that allows developers to track changes in source code during software development. It enables collaboration among team members by allowing them to work on the same codebase simultaneously.\\n\\n- **Why is Git important for DevOps?**\\n  Git is foundational in DevOps because it facilitates collaboration, version tracking, and integration with CI/CD pipelines. Almost all DevOps workflows start with source code management in Git.\\n\\n- **Key Concepts to Learn:**\\n  - Repositories (local and remote)\\n  - Branching and merging\\n  - Pull requests\\n  - Tags\\n  - Resolving merge conflicts\\n  - Git workflows (e.g., GitFlow, trunk-based development)\\n\\n- **Popular Platforms Built on Git:**\\n  - GitHub\\n  - GitLab\\n  - Bitbucket\\n  - Azure Repos\\n\\nOnce you are comfortable with Git, you can move on to learning other tools like Jenkins (CI/CD), Docker (containerization), Kubernetes (orchestration), Terraform (infrastructure as code), and Prometheus (monitoring).'"
            ]
          },
          "execution_count": 32,
          "metadata": {},
          "output_type": "execute_result"
        }
      ],
      "source": [
        "designation = \"Devops Engineer\"\n",
        "chain.run(designation)"
      ]
    },
    {
      "cell_type": "markdown",
      "id": "cFmIwlFHZn1h",
      "metadata": {
        "id": "cFmIwlFHZn1h"
      },
      "source": [
        "# **SimpleSequentialChain**\n",
        "\n",
        "Simple Sequential Chains allow for a single input to undergo a series of coherent transformations, resulting in a refined output. This sequential approach ensures systematic and efficient handling of data, making it ideal for scenarios where a linear flow of information processing is essential"
      ]
    },
    {
      "cell_type": "code",
      "execution_count": 35,
      "id": "16e6d036",
      "metadata": {
        "id": "16e6d036"
      },
      "outputs": [],
      "source": [
        "# SimpleSequentialChain\n",
        "from langchain.chains import SimpleSequentialChain\n",
        "from langchain.prompts import ChatPromptTemplate\n",
        "from langchain.chains import LLMChain"
      ]
    },
    {
      "cell_type": "code",
      "execution_count": 36,
      "id": "eb809100",
      "metadata": {
        "id": "eb809100"
      },
      "outputs": [],
      "source": [
        "# prompt template 1\n",
        "first_prompt = ChatPromptTemplate.from_template(\n",
        "    \"What are the tools that need to be learned to earn the {designation}?,provide me one tool\"\n",
        ")\n",
        "\n",
        "# Chain 1\n",
        "chain_one = LLMChain(llm=llm, prompt=first_prompt)"
      ]
    },
    {
      "cell_type": "code",
      "execution_count": 37,
      "id": "1b61f827",
      "metadata": {
        "id": "1b61f827"
      },
      "outputs": [],
      "source": [
        "# prompt template 2\n",
        "second_prompt = ChatPromptTemplate.from_template(\n",
        "    \"Write a 20 words description for the following \\\n",
        "    tool:{tool_name}\"\n",
        ")\n",
        "# chain 2\n",
        "chain_two = LLMChain(llm=llm, prompt=second_prompt)"
      ]
    },
    {
      "cell_type": "code",
      "execution_count": 38,
      "id": "ba6be59d",
      "metadata": {
        "id": "ba6be59d"
      },
      "outputs": [],
      "source": [
        "overall_simple_chain = SimpleSequentialChain(chains=[chain_one, chain_two],\n",
        "                                             verbose=True\n",
        "                                            )"
      ]
    },
    {
      "cell_type": "code",
      "execution_count": 39,
      "id": "9c07daae",
      "metadata": {
        "colab": {
          "base_uri": "https://localhost:8080/",
          "height": 594
        },
        "id": "9c07daae",
        "outputId": "897af543-edbf-4a2e-e7ad-bff0cd35c511"
      },
      "outputs": [
        {
          "name": "stdout",
          "output_type": "stream",
          "text": [
            "\n",
            "\n",
            "\u001b[1m> Entering new SimpleSequentialChain chain...\u001b[0m\n",
            "\u001b[36;1m\u001b[1;3mTo become a DevOps Engineer, you need to learn a variety of tools that are used for automation, continuous integration/continuous delivery (CI/CD), containerization, orchestration, monitoring, and more. These tools help streamline the development and operations processes, enabling faster and more reliable software delivery.\n",
            "\n",
            "One key tool you should learn is **Docker**.\n",
            "\n",
            "### About Docker:\n",
            "Docker is a popular containerization platform that allows you to create, deploy, and run applications in lightweight, portable containers. Containers package an application and all its dependencies together, ensuring that it runs consistently across different environments.\n",
            "\n",
            "#### Why Docker is important for DevOps Engineers:\n",
            "1. **Consistency Across Environments**: Docker ensures that applications behave the same way in development, testing, and production environments.\n",
            "2. **Efficient Resource Utilization**: Containers are lightweight compared to virtual machines, making them faster to start and requiring fewer resources.\n",
            "3. **Simplified Deployment**: Docker makes it easy to deploy applications quickly and reliably.\n",
            "4. **Scalability**: Docker works seamlessly with orchestration tools like Kubernetes for scaling applications.\n",
            "\n",
            "#### Key Concepts to Learn in Docker:\n",
            "- **Docker Images**: Pre-configured templates for creating containers.\n",
            "- **Docker Containers**: Running instances of Docker images.\n",
            "- **Dockerfile**: A script used to build Docker images.\n",
            "- **Docker Compose**: A tool for defining and running multi-container applications.\n",
            "- **Docker Registry**: A place to store and distribute Docker images (e.g., Docker Hub).\n",
            "\n",
            "#### How Docker fits into DevOps:\n",
            "Docker is widely used in CI/CD pipelines to ensure that code changes can be tested and deployed in consistent environments. It also integrates with other DevOps tools, such as Jenkins, Kubernetes, and AWS.\n",
            "\n",
            "Once you master Docker, you can move on to other tools like Kubernetes (for container orchestration), Jenkins (for CI/CD), Terraform (for infrastructure as code), and Prometheus/Grafana (for monitoring).\u001b[0m\n",
            "\u001b[33;1m\u001b[1;3mDocker is a leading containerization tool enabling consistent, lightweight application deployment across environments. Essential for DevOps, it streamlines scalability, efficiency, and CI/CD workflows.\u001b[0m\n",
            "\n",
            "\u001b[1m> Finished chain.\u001b[0m\n"
          ]
        },
        {
          "data": {
            "application/vnd.google.colaboratory.intrinsic+json": {
              "type": "string"
            },
            "text/plain": [
              "'Docker is a leading containerization tool enabling consistent, lightweight application deployment across environments. Essential for DevOps, it streamlines scalability, efficiency, and CI/CD workflows.'"
            ]
          },
          "execution_count": 39,
          "metadata": {},
          "output_type": "execute_result"
        }
      ],
      "source": [
        "overall_simple_chain.run(designation)"
      ]
    },
    {
      "cell_type": "markdown",
      "id": "i1d_gTGOZ3ZZ",
      "metadata": {
        "id": "i1d_gTGOZ3ZZ"
      },
      "source": [
        "# **SequentialChain**\n",
        "\n",
        "A sequential chain is a chain that combines various individual chains, where the output of one chain serves as the input for the next in a continuous sequence. It operates by running a series of chains consecutively."
      ]
    },
    {
      "cell_type": "code",
      "execution_count": 40,
      "id": "dcb38a41",
      "metadata": {
        "id": "dcb38a41"
      },
      "outputs": [],
      "source": [
        "# SequentialChain\n",
        "from langchain.chains import SequentialChain"
      ]
    },
    {
      "cell_type": "code",
      "execution_count": 41,
      "id": "42db3f34",
      "metadata": {
        "id": "42db3f34"
      },
      "outputs": [],
      "source": [
        "# prompt template 1: translate to english\n",
        "first_prompt = ChatPromptTemplate.from_template(\n",
        "    \"Write a 20 words description for the following designation\"\n",
        "    \"\\n\\n{Designation}\"\n",
        ")\n",
        "# chain 1: input= Review and output= English_Review\n",
        "chain_one = LLMChain(llm=llm, prompt=first_prompt,\n",
        "                     output_key=\"Designation_description\"\n",
        "                    )\n"
      ]
    },
    {
      "cell_type": "code",
      "execution_count": 42,
      "id": "eed023b4",
      "metadata": {
        "id": "eed023b4"
      },
      "outputs": [],
      "source": [
        "second_prompt = ChatPromptTemplate.from_template(\n",
        "    \"Can you summarize the following description in 1 sentence:\"\n",
        "    \"\\n\\n{Designation_description}\"\n",
        ")\n",
        "# chain 2: input= English_Review and output= summary\n",
        "chain_two = LLMChain(llm=llm, prompt=second_prompt,\n",
        "                     output_key=\"summary\"\n",
        "                    )"
      ]
    },
    {
      "cell_type": "code",
      "execution_count": 43,
      "id": "5ad04be0",
      "metadata": {
        "id": "5ad04be0"
      },
      "outputs": [],
      "source": [
        "# prompt template 3: translate to english\n",
        "third_prompt = ChatPromptTemplate.from_template(\n",
        "    \"What are the promgramming language that need to be learned for this designation in one line:\\n\\n{Designation}\"\n",
        ")\n",
        "# chain 3: input= Review and output= language\n",
        "chain_three = LLMChain(llm=llm, prompt=third_prompt,\n",
        "                       output_key=\"programming_language\"\n",
        "                      )"
      ]
    },
    {
      "cell_type": "code",
      "execution_count": 44,
      "id": "13b0105f",
      "metadata": {
        "id": "13b0105f"
      },
      "outputs": [],
      "source": [
        "# prompt template 4: follow up message\n",
        "fourth_prompt = ChatPromptTemplate.from_template(\n",
        "    \"Write a short follow up response to the following \"\n",
        "    \"Write a short summary about the programming language:\"\n",
        "    \"\\n\\nSummary: {summary}\\n\\nLanguage: {programming_language}\"\n",
        ")\n",
        "# chain 4: input= summary, language and output= followup_message\n",
        "chain_four = LLMChain(llm=llm, prompt=fourth_prompt,\n",
        "                      output_key=\"followup_message\"\n",
        "                     )\n"
      ]
    },
    {
      "cell_type": "code",
      "execution_count": 45,
      "id": "2d175021",
      "metadata": {
        "id": "2d175021"
      },
      "outputs": [],
      "source": [
        "# overall_chain: input= Review\n",
        "# and output= English_Review,summary, followup_message\n",
        "overall_chain = SequentialChain(\n",
        "    chains=[chain_one, chain_two, chain_three, chain_four],\n",
        "    input_variables=[\"Designation\"],\n",
        "    output_variables=[\"Designation_description\",\"programming_language\", \"summary\",\"followup_message\"],\n",
        "    verbose=True\n",
        ")"
      ]
    },
    {
      "cell_type": "code",
      "execution_count": 46,
      "id": "1c2fb50d",
      "metadata": {
        "colab": {
          "base_uri": "https://localhost:8080/"
        },
        "id": "1c2fb50d",
        "outputId": "c9aafc9e-2e69-4f19-ed93-d172ceaa2661",
        "scrolled": true
      },
      "outputs": [
        {
          "name": "stderr",
          "output_type": "stream",
          "text": [
            "/tmp/ipython-input-46-3036767809.py:2: LangChainDeprecationWarning: The method `Chain.__call__` was deprecated in langchain 0.1.0 and will be removed in 1.0. Use :meth:`~invoke` instead.\n",
            "  overall_chain(designation)\n"
          ]
        },
        {
          "name": "stdout",
          "output_type": "stream",
          "text": [
            "\n",
            "\n",
            "\u001b[1m> Entering new SequentialChain chain...\u001b[0m\n",
            "\n",
            "\u001b[1m> Finished chain.\u001b[0m\n"
          ]
        },
        {
          "data": {
            "text/plain": [
              "{'Designation': 'Database Administrator',\n",
              " 'Designation_description': 'A Database Administrator manages, secures, and optimizes databases, ensuring data integrity, availability, and performance while supporting organizational data needs.',\n",
              " 'programming_language': 'For a Database Administrator, you should learn **SQL**, **PL/SQL** (or equivalent procedural extensions), **T-SQL**, and optionally scripting/programming languages like **Python**, **Bash**, or **PowerShell** for automation and database management tasks.',\n",
              " 'summary': 'A Database Administrator ensures databases are secure, efficient, and reliable to meet organizational data requirements.',\n",
              " 'followup_message': \"Follow-up: In addition to the core languages like SQL, PL/SQL, and T-SQL, it's beneficial for a Database Administrator to familiarize themselves with database-specific tools and platforms (e.g., Oracle, Microsoft SQL Server, MySQL, or PostgreSQL). Understanding version control systems (e.g., Git) and cloud database services (e.g., AWS RDS, Azure SQL Database) can also enhance your skill set. Regularly practicing query optimization and database performance tuning will further solidify your expertise.\"}"
            ]
          },
          "execution_count": 46,
          "metadata": {},
          "output_type": "execute_result"
        }
      ],
      "source": [
        "designation = df.Designation[2]\n",
        "overall_chain(designation)"
      ]
    },
    {
      "cell_type": "markdown",
      "id": "F609fKrGaUsi",
      "metadata": {
        "id": "F609fKrGaUsi"
      },
      "source": [
        "# **Router Chain**\n",
        "\n",
        "The Router Chain is used for complicated tasks. If we have multiple subchains, each of which is specialized for a particular type of input, we could have a router chain that decides which subchain to pass the input to."
      ]
    },
    {
      "cell_type": "code",
      "execution_count": 47,
      "id": "20dfe853",
      "metadata": {
        "id": "20dfe853"
      },
      "outputs": [],
      "source": [
        "software_engineer_template = \"\"\"You are a highly skilled software engineer. \\\n",
        "You excel at addressing queries about programming and software development in a clear\n",
        "and straightforward manner. \\\n",
        "When faced with a challenge outside your expertise, you candidly \\\n",
        "acknowledge the gap in your knowledge. \\\n",
        "\n",
        "Here is a question:\n",
        "{input}\"\"\"\n",
        "\n",
        "\n",
        "database_administrator_template = \"\"\"You are a highly skilled database administrator.\\\n",
        "You excel at answering questions about databases in a clear and precise manner, \\\n",
        "making even complex topics accessible to anyone.\\\n",
        "When faced with a query or issue you're unfamiliar with, \\\n",
        "you candidly admit that you need to look into it further, valuing accuracy over conjecture.\\\n",
        "\n",
        "Here is a question:\n",
        "{input}\"\"\"\n",
        "\n",
        "data_scientist_template = \"\"\"You are a highly skilled data scientist.\\\n",
        "You excel at interpreting complex datasets and presenting insights in a \\\n",
        "straightforward and comprehensible manner.\\\n",
        "When confronted with a query beyond your expertise, you acknowledge \\\n",
        "your limitations and advocate for further research or consultation.\n",
        "\n",
        "Here is a question:\n",
        "{input}\"\"\"\n",
        "\n",
        "\n",
        "Machine_learning_engineer_template = \"\"\" You are a highly skilled Machine Learning Engineer.\\\n",
        "You excel at answering questions about machine learning algorithms and models in a clear and succinct manner.\\\n",
        "When confronted with a query outside your expertise, you candidly admit that you don't have the answer. \\\n",
        "\n",
        "Here is a question:\n",
        "{input}\"\"\""
      ]
    },
    {
      "cell_type": "code",
      "execution_count": 48,
      "id": "8a53989f",
      "metadata": {
        "id": "8a53989f"
      },
      "outputs": [],
      "source": [
        "prompt_infos = [\n",
        "    {\n",
        "        \"name\": \"software_engineer\",\n",
        "        \"description\": \"Good for answering questions about software_engineer\",\n",
        "        \"prompt_template\": software_engineer_template\n",
        "    },\n",
        "    {\n",
        "        \"name\": \"database_administrator\",\n",
        "        \"description\": \"Good for answering database_administrator questions\",\n",
        "        \"prompt_template\": database_administrator_template\n",
        "    },\n",
        "    {\n",
        "        \"name\": \"data_scientist\",\n",
        "        \"description\": \"Good for answering data_scientist questions\",\n",
        "        \"prompt_template\": data_scientist_template\n",
        "    },\n",
        "    {\n",
        "        \"name\": \"Machine_learning_engineer\",\n",
        "        \"description\": \"Good for answering Machine_learning_engineer questions\",\n",
        "        \"prompt_template\": Machine_learning_engineer_template\n",
        "    }\n",
        "]"
      ]
    },
    {
      "cell_type": "code",
      "execution_count": 53,
      "id": "74205787",
      "metadata": {
        "id": "74205787"
      },
      "outputs": [],
      "source": [
        "from langchain.chains.router import MultiPromptChain\n",
        "from langchain.chains.router.llm_router import LLMRouterChain,RouterOutputParser\n",
        "from langchain.prompts import PromptTemplate"
      ]
    },
    {
      "cell_type": "code",
      "execution_count": 54,
      "id": "89ff0e89",
      "metadata": {
        "id": "89ff0e89"
      },
      "outputs": [],
      "source": [
        "destination_chains = {}\n",
        "for p_info in prompt_infos:\n",
        "    name = p_info[\"name\"]\n",
        "    prompt_template = p_info[\"prompt_template\"]\n",
        "    prompt = ChatPromptTemplate.from_template(template=prompt_template)\n",
        "    chain = LLMChain(llm=llm, prompt=prompt)\n",
        "    destination_chains[name] = chain\n",
        "\n",
        "destinations = [f\"{p['name']}: {p['description']}\" for p in prompt_infos]\n",
        "destinations_str = \"\\n\".join(destinations)"
      ]
    },
    {
      "cell_type": "code",
      "execution_count": 55,
      "id": "aaf2a7de",
      "metadata": {
        "id": "aaf2a7de"
      },
      "outputs": [],
      "source": [
        "default_prompt = ChatPromptTemplate.from_template(\"{input}\")\n",
        "default_chain = LLMChain(llm=llm, prompt=default_prompt)"
      ]
    },
    {
      "cell_type": "code",
      "execution_count": 56,
      "id": "5e1b47d3",
      "metadata": {
        "id": "5e1b47d3"
      },
      "outputs": [],
      "source": [
        "MULTI_PROMPT_ROUTER_TEMPLATE = \"\"\"Given a raw text input to a \\\n",
        "language model select the model prompt best suited for the input. \\\n",
        "You will be given the names of the available prompts and a \\\n",
        "description of what the prompt is best suited for. \\\n",
        "You may also revise the original input if you think that revising\\\n",
        "it will ultimately lead to a better response from the language model.\n",
        "\n",
        "<< FORMATTING >>\n",
        "Return a markdown code snippet with a JSON object formatted to look like:\n",
        "```json\n",
        "{{{{\n",
        "    \"destination\": string \\ name of the prompt to use or \"DEFAULT\"\n",
        "    \"next_inputs\": string \\ a potentially modified version of the original input\n",
        "}}}}\n",
        "```\n",
        "\n",
        "REMEMBER: \"destination\" MUST be one of the candidate prompt \\\n",
        "names specified below OR it can be \"DEFAULT\" if the input is not\\\n",
        "well suited for any of the candidate prompts.\n",
        "REMEMBER: \"next_inputs\" can just be the original input \\\n",
        "if you don't think any modifications are needed.\n",
        "\n",
        "<< CANDIDATE PROMPTS >>\n",
        "{destinations}\n",
        "\n",
        "<< INPUT >>\n",
        "{{input}}\n",
        "\n",
        "<< OUTPUT (remember to include the ```json)>>\"\"\""
      ]
    },
    {
      "cell_type": "code",
      "execution_count": 57,
      "id": "9a4ab1dd",
      "metadata": {
        "id": "9a4ab1dd"
      },
      "outputs": [],
      "source": [
        "router_template = MULTI_PROMPT_ROUTER_TEMPLATE.format(\n",
        "    destinations=destinations_str\n",
        ")\n",
        "router_prompt = PromptTemplate(\n",
        "    template=router_template,\n",
        "    input_variables=[\"input\"],\n",
        "    output_parser=RouterOutputParser(),\n",
        ")\n",
        "\n",
        "router_chain = LLMRouterChain.from_llm(llm, router_prompt)"
      ]
    },
    {
      "cell_type": "code",
      "execution_count": 58,
      "id": "961447be",
      "metadata": {
        "colab": {
          "base_uri": "https://localhost:8080/"
        },
        "id": "961447be",
        "outputId": "cc6f268e-32bc-4438-a924-d43a2a2954bd"
      },
      "outputs": [
        {
          "name": "stderr",
          "output_type": "stream",
          "text": [
            "/tmp/ipython-input-58-2333002322.py:1: LangChainDeprecationWarning: Please see migration guide here for recommended implementation: https://python.langchain.com/docs/versions/migrating_chains/multi_prompt_chain/\n",
            "  chain = MultiPromptChain(router_chain=router_chain,\n"
          ]
        }
      ],
      "source": [
        "chain = MultiPromptChain(router_chain=router_chain,\n",
        "                         destination_chains=destination_chains,\n",
        "                         default_chain=default_chain, verbose=True\n",
        "                        )"
      ]
    },
    {
      "cell_type": "code",
      "execution_count": 59,
      "id": "b441063f",
      "metadata": {
        "colab": {
          "base_uri": "https://localhost:8080/",
          "height": 261
        },
        "id": "b441063f",
        "outputId": "4800f817-3bdb-4a9f-83d1-dd2e00219240"
      },
      "outputs": [
        {
          "name": "stdout",
          "output_type": "stream",
          "text": [
            "\n",
            "\n",
            "\u001b[1m> Entering new MultiPromptChain chain...\u001b[0m\n",
            "software_engineer: {'input': 'What are the various categories of software?'}\n",
            "\u001b[1m> Finished chain.\u001b[0m\n"
          ]
        },
        {
          "data": {
            "application/vnd.google.colaboratory.intrinsic+json": {
              "type": "string"
            },
            "text/plain": [
              "'Software can be categorized into various types based on its purpose, functionality, and usage. Below are the primary categories of software:\\n\\n---\\n\\n### 1. **System Software**\\n   - **Definition**: Software that provides a platform for other software and manages the hardware of a computer.\\n   - **Examples**:\\n     - Operating Systems (e.g., Windows, macOS, Linux)\\n     - Utility Programs (e.g., disk cleanup tools, antivirus software)\\n     - Device Drivers (e.g., printer drivers, GPU drivers)\\n   - **Purpose**: To manage and control hardware resources and provide essential services for application software.\\n\\n---\\n\\n### 2. **Application Software**\\n   - **Definition**: Software designed to perform specific tasks for users.\\n   - **Examples**:\\n     - Productivity Tools (e.g., Microsoft Word, Excel, Google Docs)\\n     - Web Browsers (e.g., Chrome, Firefox, Safari)\\n     - Media Players (e.g., VLC, Spotify)\\n     - Games\\n   - **Purpose**: To help users accomplish specific tasks or solve particular problems.\\n\\n---\\n\\n### 3. **Development Software**\\n   - **Definition**: Tools and environments used by developers to create, debug, and maintain software.\\n   - **Examples**:\\n     - Integrated Development Environments (IDEs) (e.g., Visual Studio, IntelliJ IDEA, Eclipse)\\n     - Code Editors (e.g., VS Code, Sublime Text)\\n     - Compilers and Interpreters (e.g., GCC, Python Interpreter)\\n     - Debuggers and Version Control Tools (e.g., Git, GitHub)\\n   - **Purpose**: To facilitate software development and streamline the coding process.\\n\\n---\\n\\n### 4. **Middleware**\\n   - **Definition**: Software that acts as a bridge between different systems, applications, or services.\\n   - **Examples**:\\n     - Database Middleware (e.g., ODBC, JDBC)\\n     - Message-Oriented Middleware (e.g., RabbitMQ, Apache Kafka)\\n     - API Gateways (e.g., Kong, AWS API Gateway)\\n   - **Purpose**: To enable communication and data exchange between different software systems.\\n\\n---\\n\\n### 5. **Driver Software**\\n   - **Definition**: Specialized software that allows the operating system and applications to communicate with hardware devices.\\n   - **Examples**:\\n     - Printer Drivers\\n     - Graphics Card Drivers (e.g., NVIDIA, AMD drivers)\\n     - Network Drivers\\n   - **Purpose**: To ensure that hardware devices function properly by translating software commands into hardware-specific instructions.\\n\\n---\\n\\n### 6. **Embedded Software**\\n   - **Definition**: Software designed to operate specific hardware systems or devices, often with real-time constraints.\\n   - **Examples**:\\n     - Software in IoT devices (e.g., smart thermostats, fitness trackers)\\n     - Firmware for appliances (e.g., washing machines, microwaves)\\n     - Automotive software (e.g., engine control units)\\n   - **Purpose**: To control and optimize the functionality of dedicated hardware systems.\\n\\n---\\n\\n### 7. **Web-Based Software**\\n   - **Definition**: Software that runs on web servers and is accessed through web browsers.\\n   - **Examples**:\\n     - Web Applications (e.g., Gmail, Trello, Salesforce)\\n     - Content Management Systems (e.g., WordPress, Drupal)\\n     - E-commerce Platforms (e.g., Shopify, Amazon)\\n   - **Purpose**: To provide functionality over the internet without requiring installation on a local device.\\n\\n---\\n\\n### 8. **Mobile Software**\\n   - **Definition**: Software specifically designed for mobile devices like smartphones and tablets.\\n   - **Examples**:\\n     - Mobile Apps (e.g., WhatsApp, Instagram, Google Maps)\\n     - Mobile Games (e.g., Candy Crush, PUBG Mobile)\\n   - **Purpose**: To provide functionality tailored to mobile platforms (e.g., iOS, Android).\\n\\n---\\n\\n### 9. **Enterprise Software**\\n   - **Definition**: Software designed to meet the needs of large organizations and businesses.\\n   - **Examples**:\\n     - Customer Relationship Management (CRM) (e.g., Salesforce, HubSpot)\\n     - Enterprise Resource Planning (ERP) (e.g., SAP, Oracle ERP)\\n     - Human Resource Management Systems (e.g., Workday, BambooHR)\\n   - **Purpose**: To support business processes, improve efficiency, and manage large-scale operations.\\n\\n---\\n\\n### 10. **Open Source Software**\\n   - **Definition**: Software with source code that is freely available for modification and redistribution.\\n   - **Examples**:\\n     - Linux (Operating System)\\n     - Apache (Web Server)\\n     - GIMP (Image Editing)\\n   - **Purpose**: To allow collaboration, transparency, and customization by the community.\\n\\n---\\n\\n### 11. **Proprietary Software**\\n   - **Definition**: Software that is owned by an individual or company and has restrictions on usage, modification, and distribution.\\n   - **Examples**:\\n     - Microsoft Office\\n     - Adobe Photoshop\\n     - AutoCAD\\n   - **Purpose**: To provide commercial software solutions with licensing agreements.\\n\\n---\\n\\n### 12. **Cloud-Based Software**\\n   - **Definition**: Software hosted on remote servers and accessed via the internet.\\n   - **Examples**:\\n     - Software-as-a-Service (SaaS) (e.g., Dropbox, Slack, Google Workspace)\\n     - Cloud Storage Services (e.g., Google Drive, OneDrive)\\n   - **Purpose**: To provide scalable, on-demand software solutions without requiring local installation.\\n\\n---\\n\\n### 13. **Artificial Intelligence (AI) Software**\\n   - **Definition**: Software designed to simulate human intelligence and perform tasks like learning, reasoning, and problem-solving.\\n   - **Examples**:\\n     - Machine Learning Frameworks (e.g., TensorFlow, PyTorch)\\n     - AI Assistants (e.g., Siri, Alexa, ChatGPT)\\n     - Computer Vision Tools\\n   - **Purpose**: To enable intelligent automation, decision-making, and predictive analytics.\\n\\n---\\n\\nThis categorization is not exhaustive, as software can often overlap between categories (e.g., cloud-based enterprise software). However, these classifications provide a broad overview of the different types of software and their purposes.'"
            ]
          },
          "execution_count": 59,
          "metadata": {},
          "output_type": "execute_result"
        }
      ],
      "source": [
        "chain.run(\"What are the various categories of software?\")"
      ]
    },
    {
      "cell_type": "code",
      "execution_count": 60,
      "id": "dd97d517",
      "metadata": {
        "colab": {
          "base_uri": "https://localhost:8080/",
          "height": 261
        },
        "id": "dd97d517",
        "outputId": "51d4ee78-a736-43a9-9242-0d7f949ad21a"
      },
      "outputs": [
        {
          "name": "stdout",
          "output_type": "stream",
          "text": [
            "\n",
            "\n",
            "\u001b[1m> Entering new MultiPromptChain chain...\u001b[0m\n",
            "Machine_learning_engineer: {'input': 'What are the differences between supervised and unsupervised learning?'}\n",
            "\u001b[1m> Finished chain.\u001b[0m\n"
          ]
        },
        {
          "data": {
            "application/vnd.google.colaboratory.intrinsic+json": {
              "type": "string"
            },
            "text/plain": [
              "'Supervised and unsupervised learning are two primary types of machine learning paradigms, and they differ in several key ways:\\n\\n### 1. **Definition:**\\n   - **Supervised Learning:** In supervised learning, the model is trained on labeled data, meaning the input data comes with corresponding output labels. The goal is to learn a mapping from inputs to outputs.\\n   - **Unsupervised Learning:** In unsupervised learning, the model is trained on unlabeled data. The goal is to identify patterns, structures, or relationships in the data without explicit output labels.\\n\\n---\\n\\n### 2. **Data:**\\n   - **Supervised Learning:** Requires labeled data, where each input has a known output (e.g., images with labels like \"cat\" or \"dog\").\\n   - **Unsupervised Learning:** Works with unlabeled data, where no predefined labels or outputs are provided.\\n\\n---\\n\\n### 3. **Objective:**\\n   - **Supervised Learning:** Predict outcomes for new, unseen data based on the labeled training data. Common tasks are:\\n     - **Classification:** Predicting discrete categories (e.g., spam vs. non-spam emails).\\n     - **Regression:** Predicting continuous values (e.g., house prices).\\n   - **Unsupervised Learning:** Discover hidden patterns or groupings in the data. Common tasks are:\\n     - **Clustering:** Grouping data into clusters (e.g., customer segmentation).\\n     - **Dimensionality Reduction:** Reducing the number of features while preserving important information (e.g., PCA).\\n\\n---\\n\\n### 4. **Examples of Algorithms:**\\n   - **Supervised Learning:**\\n     - Linear Regression\\n     - Logistic Regression\\n     - Decision Trees\\n     - Support Vector Machines (SVM)\\n     - Neural Networks\\n   - **Unsupervised Learning:**\\n     - K-Means Clustering\\n     - Hierarchical Clustering\\n     - Principal Component Analysis (PCA)\\n     - t-SNE\\n     - Autoencoders\\n\\n---\\n\\n### 5. **Performance Evaluation:**\\n   - **Supervised Learning:** Performance is evaluated using metrics like accuracy, precision, recall, F1 score (for classification), or mean squared error (for regression).\\n   - **Unsupervised Learning:** Evaluation is more subjective and often involves domain knowledge. Metrics like silhouette score or Davies-Bouldin index can be used for clustering, but there’s no “ground truth” for comparison.\\n\\n---\\n\\n### 6. **Applications:**\\n   - **Supervised Learning:**\\n     - Email spam detection\\n     - Fraud detection\\n     - Sentiment analysis\\n     - Predictive maintenance\\n   - **Unsupervised Learning:**\\n     - Customer segmentation\\n     - Anomaly detection\\n     - Recommender systems\\n     - Data visualization\\n\\n---\\n\\nIn summary, the key difference lies in the presence (supervised) or absence (unsupervised) of labeled data and the nature of the problem being solved.'"
            ]
          },
          "execution_count": 60,
          "metadata": {},
          "output_type": "execute_result"
        }
      ],
      "source": [
        "chain.run(\"What are the differences between supervised and unsupervised learning\")"
      ]
    },
    {
      "cell_type": "markdown",
      "id": "UDDmuisndnbJ",
      "metadata": {
        "id": "UDDmuisndnbJ"
      },
      "source": [
        "# **Let's Do an Activity**\n",
        "\n",
        "## **Objective**\n",
        "\n",
        "Practice using chains with language models and structured output parsing to handle complex tasks efficiently.\n",
        "\n",
        "## **Scenario**\n",
        "\n",
        "You are tasked with building a system to assist users in understanding various technical concepts related to software engineering roles. Your goal is to use different chains to process user queries, transform them using prompt templates, and extract specific information using output parsers.\n",
        "\n",
        "## **Steps**\n",
        "\n",
        "* Define a Prompt Template\n",
        "* Prepare Sample Queries\n",
        "* Implement LLM Chains\n",
        "* Output Parsing\n",
        "* Interactive Chain Execution\n",
        "* Evaluate"
      ]
    },
    {
      "cell_type": "code",
      "execution_count": null,
      "id": "heO0ao4VehSq",
      "metadata": {
        "id": "heO0ao4VehSq"
      },
      "outputs": [],
      "source": []
    }
  ],
  "metadata": {
    "colab": {
      "provenance": []
    },
    "kernelspec": {
      "display_name": "Python 3 (ipykernel)",
      "language": "python",
      "name": "python3"
    },
    "language_info": {
      "codemirror_mode": {
        "name": "ipython",
        "version": 3
      },
      "file_extension": ".py",
      "mimetype": "text/x-python",
      "name": "python",
      "nbconvert_exporter": "python",
      "pygments_lexer": "ipython3",
      "version": "3.11.4"
    }
  },
  "nbformat": 4,
  "nbformat_minor": 5
}
