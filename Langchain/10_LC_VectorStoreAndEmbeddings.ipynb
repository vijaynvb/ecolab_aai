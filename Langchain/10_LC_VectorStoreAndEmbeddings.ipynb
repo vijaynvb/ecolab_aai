{
  "cells": [
    {
      "cell_type": "markdown",
      "id": "dQj_xgvpT9uy",
      "metadata": {
        "id": "dQj_xgvpT9uy"
      },
      "source": [
        "# **VectorStore and Embeddings**\n",
        "\n",
        "We need vector stores and embeddings to efficiently handle and retrieve relevant information from large text datasets. Embeddings convert text data into numerical vectors that capture semantic meaning, enabling more accurate search and retrieval by understanding context and similarity. Vector stores index these embeddings, allowing for quick and scalable similarity searches, essential for applications like recommendation systems, information retrieval, and natural language processing tasks. Combining both ensures high performance in accessing and utilizing vast amounts of text data."
      ]
    },
    {
      "cell_type": "code",
      "execution_count": null,
      "id": "c81a13b1",
      "metadata": {
        "id": "c81a13b1"
      },
      "outputs": [],
      "source": [
        "%%capture\n",
        "# update or install the necessary libraries\n",
        "!pip install --upgrade langchain langchain_community langchain-openai\n",
        "!pip install pypdf\n",
        "!pip install tiktoken\n",
        "!pip install faiss-cpu\n",
        "!pip install --upgrade python-dotenv\n"
      ]
    },
    {
      "cell_type": "code",
      "execution_count": null,
      "id": "uhrSlEaBzNoZ",
      "metadata": {
        "id": "uhrSlEaBzNoZ"
      },
      "outputs": [],
      "source": [
        "import os\n",
        "from dotenv import load_dotenv\n",
        "\n",
        "# Load environment variables from .env file\n",
        "load_dotenv()\n",
        "\n",
        "os.environ[\"OPENAI_API_VERSION\"] = os.getenv('OPENAI_API_VERSION')\n",
        "os.environ[\"AZURE_OPENAI_ENDPOINT\"] = os.getenv('AZURE_OPENAI_ENDPOINT')\n",
        "os.environ[\"AZURE_OPENAI_API_KEY\"] = os.getenv('AZURE_OPENAI_API_KEY')"
      ]
    },
    {
      "cell_type": "markdown",
      "id": "IirOq9leTbm5",
      "metadata": {
        "id": "IirOq9leTbm5"
      },
      "source": [
        "We just discussed `Document Loading` and `Splitting`.\n"
      ]
    },
    {
      "cell_type": "code",
      "execution_count": null,
      "id": "ce244283",
      "metadata": {
        "id": "ce244283"
      },
      "outputs": [],
      "source": [
        "from langchain.document_loaders import PyPDFLoader\n",
        "\n",
        "# Load PDF\n",
        "loaders = [\n",
        "    # Duplicate documents on purpose - messy data\n",
        "    PyPDFLoader(\"./content/MachineLearning-Lecture01.pdf\"),\n",
        "    PyPDFLoader(\"./content/MachineLearning-Lecture02.pdf\"),\n",
        "    PyPDFLoader(\"./content/MachineLearning-Lecture03.pdf\")\n",
        "\n",
        "]\n",
        "docs = []\n",
        "for loader in loaders:\n",
        "    docs.extend(loader.load())"
      ]
    },
    {
      "cell_type": "code",
      "execution_count": 4,
      "id": "f52d2eec",
      "metadata": {
        "colab": {
          "base_uri": "https://localhost:8080/"
        },
        "id": "f52d2eec",
        "outputId": "896ef567-3663-4e58-8719-7f97ea52f53b"
      },
      "outputs": [
        {
          "data": {
            "text/plain": [
              "151"
            ]
          },
          "execution_count": 4,
          "metadata": {},
          "output_type": "execute_result"
        }
      ],
      "source": [
        "# Split\n",
        "from langchain.text_splitter import RecursiveCharacterTextSplitter\n",
        "text_splitter = RecursiveCharacterTextSplitter(\n",
        "    chunk_size = 1500,\n",
        "    chunk_overlap = 150\n",
        ")\n",
        "\n",
        "splits = text_splitter.split_documents(docs)\n",
        "\n",
        "len(splits)"
      ]
    },
    {
      "cell_type": "markdown",
      "id": "xUR4SEbtTloz",
      "metadata": {
        "id": "xUR4SEbtTloz"
      },
      "source": [
        "# **Embeddings**\n",
        "\n",
        "Embedding is a technique that transforms text or other data into numerical vectors, capturing semantic relationships and contextual meaning. These vectors enable machines to process and analyze the data more effectively, facilitating tasks such as search, recommendation, and natural language understanding.\n",
        "\n",
        "<br>\n",
        "\n",
        "\n",
        "Let's take our splits and embed them."
      ]
    },
    {
      "cell_type": "code",
      "execution_count": 6,
      "id": "87dac68a",
      "metadata": {
        "id": "87dac68a"
      },
      "outputs": [],
      "source": [
        "# Embeddings\n",
        "\n",
        "from langchain_openai import AzureOpenAIEmbeddings\n",
        "\n",
        "# Initialize Azure OpenAI embeddings\n",
        "embedding = AzureOpenAIEmbeddings(azure_deployment=\"text-embedding-ada-002\")\n",
        "\n",
        "sentence1 = \"i like Workplace conditions\"\n",
        "sentence2 = \"i like Employees  Efficiency and Effectiveness\"\n",
        "sentence3 = \" Employee’s Characteristics and Creativity\"\n",
        "\n",
        "embedding1 = embedding.embed_query(sentence1)\n",
        "embedding2 = embedding.embed_query(sentence2)\n",
        "embedding3 = embedding.embed_query(sentence3)\n"
      ]
    },
    {
      "cell_type": "code",
      "execution_count": 7,
      "id": "f3875c82",
      "metadata": {
        "colab": {
          "base_uri": "https://localhost:8080/"
        },
        "id": "f3875c82",
        "outputId": "9788371d-83b5-4468-ea2f-6f88a2b543cb"
      },
      "outputs": [
        {
          "data": {
            "text/plain": [
              "np.float64(0.7826747987941192)"
            ]
          },
          "execution_count": 7,
          "metadata": {},
          "output_type": "execute_result"
        }
      ],
      "source": [
        "import numpy as np\n",
        "\n",
        "np.dot(embedding1, embedding3)\n"
      ]
    },
    {
      "cell_type": "markdown",
      "id": "yzgjhoeSTr9T",
      "metadata": {
        "id": "yzgjhoeSTr9T"
      },
      "source": [
        "# **Vectorstores**\n",
        "\n",
        "A vector store is a database designed to store and manage numerical vectors, such as embeddings, for efficient retrieval and similarity search. It enables quick and accurate matching of vectors, facilitating tasks like nearest neighbor search, clustering, and recommendation systems based on vector similarity."
      ]
    },
    {
      "cell_type": "code",
      "execution_count": null,
      "id": "6a979239",
      "metadata": {
        "colab": {
          "base_uri": "https://localhost:8080/"
        },
        "id": "6a979239",
        "outputId": "6c2c18e2-ab3b-4e5d-dfca-1bec9e3636c9"
      },
      "outputs": [
        {
          "name": "stderr",
          "output_type": "stream",
          "text": [
            "ERROR:chromadb.telemetry.product.posthog:Failed to send telemetry event ClientStartEvent: capture() takes 1 positional argument but 3 were given\n",
            "ERROR:chromadb.telemetry.product.posthog:Failed to send telemetry event ClientCreateCollectionEvent: capture() takes 1 positional argument but 3 were given\n"
          ]
        },
        {
          "name": "stdout",
          "output_type": "stream",
          "text": [
            "151\n"
          ]
        }
      ],
      "source": [
        "from langchain.vectorstores import FAISS\n",
        "persist_directory = 'docs/faiss/'\n",
        "# !rm -rf ./docs/faiss  # remove old database files if any\n",
        "vectordb = FAISS.from_documents(\n",
        "    documents=splits,\n",
        "    embedding=embedding,\n",
        "    persist_directory=persist_directory\n",
        ")\n",
        "\n",
        "print(vectordb._collection.count())"
      ]
    },
    {
      "cell_type": "code",
      "execution_count": 9,
      "id": "2hpDRTy06N2o",
      "metadata": {
        "id": "2hpDRTy06N2o"
      },
      "outputs": [],
      "source": [
        "question = \"is there an email i can ask for help\""
      ]
    },
    {
      "cell_type": "code",
      "execution_count": 10,
      "id": "HPx0V_iQ6SCC",
      "metadata": {
        "colab": {
          "base_uri": "https://localhost:8080/"
        },
        "id": "HPx0V_iQ6SCC",
        "outputId": "a35237cd-8b30-4260-efdc-53999d3640b2"
      },
      "outputs": [
        {
          "name": "stderr",
          "output_type": "stream",
          "text": [
            "ERROR:chromadb.telemetry.product.posthog:Failed to send telemetry event CollectionQueryEvent: capture() takes 1 positional argument but 3 were given\n"
          ]
        }
      ],
      "source": [
        "docs = vectordb.similarity_search(question,k=3)"
      ]
    },
    {
      "cell_type": "code",
      "execution_count": 11,
      "id": "qSIyTmv96XYS",
      "metadata": {
        "colab": {
          "base_uri": "https://localhost:8080/",
          "height": 145
        },
        "id": "qSIyTmv96XYS",
        "outputId": "9204ba67-e51c-4e0e-ecfc-479fdedec5cf"
      },
      "outputs": [
        {
          "data": {
            "application/vnd.google.colaboratory.intrinsic+json": {
              "type": "string"
            },
            "text/plain": [
              "\"cs229-qa@cs.stanford.edu. This goes to an account that's read by all the TAs and me. So \\nrather than sending us email individually, if you send email to this account, it will \\nactually let us get back to you maximally quickly with answers to your questions.  \\nIf you're asking questions about homework problems, please say in the subject line which \\nassignment and which question the email refers to, since that will also help us to route \\nyour question to the appropriate TA or to me appropriately and get the response back to \\nyou quickly.  \\nLet's see. Skipping ahead — let's see — for homework, one midterm, one open and term \\nproject. Notice on the honor code. So one thing that I think will help you to succeed and \\ndo well in this class and even help you to enjoy this class more is if you form a study \\ngroup.  \\nSo start looking around where you're sitting now or at the end of class today, mingle a \\nlittle bit and get to know your classmates. I strongly encourage you to form study groups \\nand sort of have a group of people to study with and have a group of your fellow students \\nto talk over these concepts with. You can also post on the class newsgroup if you want to \\nuse that to try to form a study group.  \\nBut some of the problems sets in this class are reasonably difficult. People that have \\ntaken the class before may tell you they were very difficult. And just I bet it would be \\nmore fun for you, and you'd probably have a better learning experience if you form a\""
            ]
          },
          "execution_count": 11,
          "metadata": {},
          "output_type": "execute_result"
        }
      ],
      "source": [
        "docs[0].page_content"
      ]
    },
    {
      "cell_type": "code",
      "execution_count": 12,
      "id": "o-UzxXZw7l1h",
      "metadata": {
        "colab": {
          "base_uri": "https://localhost:8080/"
        },
        "id": "o-UzxXZw7l1h",
        "outputId": "4fc10389-b6c0-45c8-8cdd-8d4383bb64d5"
      },
      "outputs": [
        {
          "name": "stderr",
          "output_type": "stream",
          "text": [
            "/tmp/ipython-input-12-891976456.py:2: LangChainDeprecationWarning: Since Chroma 0.4.x the manual persistence method is no longer supported as docs are automatically persisted.\n",
            "  vectordb.persist()\n"
          ]
        }
      ],
      "source": [
        "# Let's save this so we can use it later!\n",
        "vectordb.persist()"
      ]
    },
    {
      "cell_type": "markdown",
      "id": "92J_MgV-S0BQ",
      "metadata": {
        "id": "92J_MgV-S0BQ"
      },
      "source": [
        "# Failure modes\n",
        "\n",
        "This seems great, and basic similarity search will get you 80% of the way there very easily.\n",
        "\n",
        "But there are some failure modes that can creep up.\n",
        "\n",
        "Here are some edge cases that can arise - we'll fix them in the next class."
      ]
    },
    {
      "cell_type": "code",
      "execution_count": 13,
      "id": "F4kwHuw87uja",
      "metadata": {
        "id": "F4kwHuw87uja"
      },
      "outputs": [],
      "source": [
        "question = \"what did they say about matlab?\""
      ]
    },
    {
      "cell_type": "code",
      "execution_count": 14,
      "id": "d7qW3nwG72U5",
      "metadata": {
        "id": "d7qW3nwG72U5"
      },
      "outputs": [],
      "source": [
        "docs = vectordb.similarity_search(question,k=5)"
      ]
    },
    {
      "cell_type": "markdown",
      "id": "esPJir0ZTGCG",
      "metadata": {
        "id": "esPJir0ZTGCG"
      },
      "source": [
        "Notice that we're getting duplicate chunks (because of the duplicate MachineLearning-Lecture01.pdf in the index).\n",
        "\n",
        "Semantic search fetches all similar documents, but does not enforce diversity.\n",
        "\n",
        "docs[0] and docs[1] are indentical."
      ]
    },
    {
      "cell_type": "markdown",
      "id": "BvSR7__FTF-k",
      "metadata": {
        "id": "BvSR7__FTF-k"
      },
      "source": []
    },
    {
      "cell_type": "code",
      "execution_count": 15,
      "id": "SVQInNyGS-mn",
      "metadata": {
        "colab": {
          "base_uri": "https://localhost:8080/"
        },
        "id": "SVQInNyGS-mn",
        "outputId": "7e01190d-3949-4e0f-fc3c-ba8a33465d31"
      },
      "outputs": [
        {
          "data": {
            "text/plain": [
              "Document(metadata={'creationdate': '2008-07-11T11:25:23-07:00', 'page_label': '9', 'source': '/content/MachineLearning-Lecture01.pdf', 'moddate': '2008-07-11T11:25:23-07:00', 'page': 8, 'creator': 'PScript5.dll Version 5.2.2', 'total_pages': 22, 'title': '', 'author': '', 'producer': 'Acrobat Distiller 8.1.0 (Windows)'}, page_content='those homeworks will be done in either MATLAB or in Octave, which is sort of — I \\nknow some people call it a free version of MATLAB, which it sort of is, sort of isn\\'t.  \\nSo I guess for those of you that haven\\'t seen MATLAB before, and I know most of you \\nhave, MATLAB is I guess part of the programming language that makes it very easy to \\nwrite codes using matrices, to write code for numerical routines, to move data around, to \\nplot data. And it\\'s sort of an extremely easy to learn tool to use for implementing a lot of \\nlearning algorithms.  \\nAnd in case some of you want to work on your own home computer or something if you \\ndon\\'t have a MATLAB license, for the purposes of this class, there\\'s also — [inaudible] \\nwrite that down [inaudible] MATLAB — there\\' s also a software package called Octave \\nthat you can download for free off the Internet. And it has somewhat fewer features than \\nMATLAB, but it\\'s free, and for the purposes of this class, it will work for just about \\neverything.  \\nSo actually I, well, so yeah, just a side comment for those of you that haven\\'t seen \\nMATLAB before I guess, once a colleague of mine at a different university, not at \\nStanford, actually teaches another machine learning course. He\\'s taught it for many years. \\nSo one day, he was in his office, and an old student of his from, like, ten years ago came \\ninto his office and he said, \"Oh, professor, professor, thank you so much for your')"
            ]
          },
          "execution_count": 15,
          "metadata": {},
          "output_type": "execute_result"
        }
      ],
      "source": [
        "docs[0]"
      ]
    },
    {
      "cell_type": "code",
      "execution_count": null,
      "id": "nwUldKazTBI6",
      "metadata": {
        "colab": {
          "base_uri": "https://localhost:8080/"
        },
        "id": "nwUldKazTBI6",
        "outputId": "ac325a1f-0f25-472b-b75f-656299099dcc"
      },
      "outputs": [
        {
          "data": {
            "text/plain": [
              "Document(metadata={'producer': 'Acrobat Distiller 8.1.0 (Windows)', 'creator': 'PScript5.dll Version 5.2.2', 'creationdate': '2008-07-11T11:25:23-07:00', 'author': '', 'moddate': '2008-07-11T11:25:23-07:00', 'title': '', 'source': '/content/MachineLearning-Lecture01.pdf', 'total_pages': 22, 'page': 1, 'page_label': '2'}, page_content=\"many biologers are there here? Wow, just a few, not many. I'm surprised. Anyone from \\nstatistics? Okay, a few. So where are the rest of you from?  \\nStudent : iCME.  \\nInstructor (Andrew Ng) : Say again?  \\nStudent : iCME.  \\nInstructor (Andrew Ng) : iCME. Cool.  \\nStudent : [Inaudible].  \\nInstructor (Andrew Ng) : Civi and what else?  \\nStudent : [Inaudible]  \\nInstructor (Andrew Ng) : Synthesis, [inaudible] systems. Yeah, cool.  \\nStudent : Chemi.  \\nInstructor (Andrew Ng) : Chemi. Cool.  \\nStudent : [Inaudible].  \\nInstructor (Andrew Ng) : Aero/astro. Yes, right. Yeah, okay, cool. Anyone else?  \\nStudent : [Inaudible].  \\nInstructor (Andrew Ng) : Pardon? MSNE. All right. Cool. Yeah.  \\nStudent : [Inaudible].  \\nInstructor (Andrew Ng) : Pardon?  \\nStudent : [Inaudible].  \\nInstructor (Andrew Ng) : Endo —  \\nStudent : [Inaudible].  \\nInstructor (Andrew Ng) : Oh, I see, industry. Okay. Cool. Great, great. So as you can \\ntell from a cross-section of this class, I think we're a very diverse audience in this room, \\nand that's one of the things that makes this class fun to teach and fun to be in, I think.\")"
            ]
          },
          "execution_count": 18,
          "metadata": {},
          "output_type": "execute_result"
        }
      ],
      "source": [
        "docs[1]"
      ]
    },
    {
      "cell_type": "markdown",
      "id": "z9lGpbaBTM5A",
      "metadata": {
        "id": "z9lGpbaBTM5A"
      },
      "source": [
        "We can see a new failure mode.\n",
        "\n",
        "The question below asks a question about the third lecture, but includes results from other lectures as well."
      ]
    },
    {
      "cell_type": "code",
      "execution_count": 16,
      "id": "9ba1fa29",
      "metadata": {
        "colab": {
          "base_uri": "https://localhost:8080/"
        },
        "id": "9ba1fa29",
        "outputId": "6bf3186f-e453-4b2d-d979-b08f619fee43"
      },
      "outputs": [
        {
          "name": "stdout",
          "output_type": "stream",
          "text": [
            "{'creationdate': '2008-07-11T11:25:03-07:00', 'page_label': '1', 'title': '', 'author': '', 'total_pages': 16, 'page': 0, 'creator': 'PScript5.dll Version 5.2.2', 'moddate': '2008-07-11T11:25:03-07:00', 'source': '/content/MachineLearning-Lecture03.pdf', 'producer': 'Acrobat Distiller 8.1.0 (Windows)'}\n",
            "{'page_label': '3', 'title': '', 'creationdate': '2008-07-11T11:25:05-07:00', 'total_pages': 18, 'source': '/content/MachineLearning-Lecture02.pdf', 'author': '', 'moddate': '2008-07-11T11:25:05-07:00', 'page': 2, 'creator': 'PScript5.dll Version 5.2.2', 'producer': 'Acrobat Distiller 8.1.0 (Windows)'}\n",
            "{'title': '', 'producer': 'Acrobat Distiller 8.1.0 (Windows)', 'creator': 'PScript5.dll Version 5.2.2', 'source': '/content/MachineLearning-Lecture02.pdf', 'author': '', 'page': 17, 'page_label': '18', 'total_pages': 18, 'moddate': '2008-07-11T11:25:05-07:00', 'creationdate': '2008-07-11T11:25:05-07:00'}\n",
            "{'source': '/content/MachineLearning-Lecture01.pdf', 'total_pages': 22, 'page': 8, 'creationdate': '2008-07-11T11:25:23-07:00', 'author': '', 'creator': 'PScript5.dll Version 5.2.2', 'moddate': '2008-07-11T11:25:23-07:00', 'title': '', 'page_label': '9', 'producer': 'Acrobat Distiller 8.1.0 (Windows)'}\n",
            "{'page': 13, 'author': '', 'moddate': '2008-07-11T11:25:03-07:00', 'source': '/content/MachineLearning-Lecture03.pdf', 'creator': 'PScript5.dll Version 5.2.2', 'creationdate': '2008-07-11T11:25:03-07:00', 'page_label': '14', 'producer': 'Acrobat Distiller 8.1.0 (Windows)', 'title': '', 'total_pages': 16}\n",
            "least squares regression being a bad idea for classification problems and then I did a \n",
            "bunch of math and I skipped some steps, but I’m, sort of, claiming at the end they’re \n",
            "really the same learning algorithm?  \n",
            "Student:[Inaudible] constants?  \n",
            "Instructor (Andrew Ng):Say that again.  \n",
            "Student:[Inaudible]  \n",
            "Instructor (Andrew Ng):Oh, right. Okay, cool.\n"
          ]
        }
      ],
      "source": [
        "question = \"what did they say about regression in the third lecture?\"\n",
        "docs = vectordb.similarity_search(question,k=5)\n",
        "for doc in docs:\n",
        "    print(doc.metadata)\n",
        "print(docs[4].page_content)"
      ]
    },
    {
      "cell_type": "markdown",
      "id": "ua5k5b2oWe-o",
      "metadata": {
        "id": "ua5k5b2oWe-o"
      },
      "source": [
        "# **Let's Do an Activity**\n",
        "\n",
        "## **Objective**\n",
        "\n",
        "In this activity, you will learn to use embeddings and vector stores to perform efficient similarity searches and data retrieval. You will practice creating embeddings from text data, storing them in a vector store, and retrieving relevant information based on similarity queries.\n",
        "\n",
        "## **Scenario**\n",
        "\n",
        "You are building a recommendation system that suggests documents based on user queries. To achieve this, you will use LangChain to create embeddings from text data and store these embeddings in a vector store. You will then use the vector store to find the most relevant documents for a given query.\n",
        "\n",
        "## **Steps**\n",
        "\n",
        "* Load and Split Documents\n",
        "* Create Embeddings\n",
        "* Store Embeddings in Vector Store\n",
        "* Perform Similarity Search"
      ]
    }
  ],
  "metadata": {
    "colab": {
      "provenance": []
    },
    "kernelspec": {
      "display_name": "Python 3 (ipykernel)",
      "language": "python",
      "name": "python3"
    },
    "language_info": {
      "codemirror_mode": {
        "name": "ipython",
        "version": 3
      },
      "file_extension": ".py",
      "mimetype": "text/x-python",
      "name": "python",
      "nbconvert_exporter": "python",
      "pygments_lexer": "ipython3",
      "version": "3.11.4"
    }
  },
  "nbformat": 4,
  "nbformat_minor": 5
}
