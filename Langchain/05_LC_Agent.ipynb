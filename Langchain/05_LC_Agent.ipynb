{
  "cells": [
    {
      "cell_type": "markdown",
      "id": "78ec6921",
      "metadata": {
        "id": "78ec6921"
      },
      "source": [
        "# Agents\n",
        "\n",
        "Agent is a modular and flexible component that can perform a variety of tasks by leveraging multiple tools and large language models (LLMs). Agents act as intermediaries that can dynamically select and execute actions based on the input they receive. They enable the creation of complex applications that require decision-making and multi-step processes.\n"
      ]
    },
    {
      "cell_type": "code",
      "execution_count": null,
      "id": "kqJcOL4F-3pK",
      "metadata": {
        "id": "kqJcOL4F-3pK"
      },
      "outputs": [],
      "source": [
        "%%capture\n",
        "\n",
        "# update or install the necessary libraries\n",
        "!pip install --upgrade langchain langchain_community langchain-openai langchainhub\n",
        "\n",
        "!pip install --upgrade tavily-python\n",
        "!pip install --upgrade python-dotenv"
      ]
    },
    {
      "cell_type": "code",
      "execution_count": null,
      "id": "a36e6c2c",
      "metadata": {},
      "outputs": [],
      "source": [
        "import os\n",
        "from dotenv import load_dotenv\n",
        "\n",
        "# Load environment variables from .env file\n",
        "load_dotenv()\n",
        "\n",
        "os.environ[\"OPENAI_API_VERSION\"] = os.getenv('OPENAI_API_VERSION')\n",
        "os.environ[\"AZURE_OPENAI_ENDPOINT\"] = os.getenv('AZURE_OPENAI_ENDPOINT')\n",
        "os.environ[\"AZURE_OPENAI_API_KEY\"] = os.getenv('AZURE_OPENAI_API_KEY')"
      ]
    },
    {
      "cell_type": "markdown",
      "id": "TCOvsI_wQTm4",
      "metadata": {
        "id": "TCOvsI_wQTm4"
      },
      "source": [
        "TavilySearchResults is a valuable tool that connects your language model (LLM) to the web using the Tavily Search API."
      ]
    },
    {
      "cell_type": "code",
      "execution_count": 2,
      "id": "7b2421f4",
      "metadata": {
        "id": "7b2421f4"
      },
      "outputs": [],
      "source": [
        "from langchain_community.tools.tavily_search import TavilySearchResults\n",
        "from langchain_openai import ChatOpenAI\n",
        "from langchain import hub\n",
        "from langchain.agents import create_openai_functions_agent\n",
        "from langchain.agents import AgentExecutor"
      ]
    },
    {
      "cell_type": "markdown",
      "id": "4d5efcf4",
      "metadata": {
        "id": "4d5efcf4"
      },
      "source": [
        "## Prompt"
      ]
    },
    {
      "cell_type": "markdown",
      "id": "czP2CER6EEt4",
      "metadata": {
        "id": "czP2CER6EEt4"
      },
      "source": [
        "**LangChain Hub**\n",
        "\n",
        "Efficiently manage your LLM components with the LangChain Hub."
      ]
    },
    {
      "cell_type": "code",
      "execution_count": 3,
      "id": "5992682a",
      "metadata": {
        "colab": {
          "base_uri": "https://localhost:8080/"
        },
        "id": "5992682a",
        "outputId": "22aee86b-db08-464f-d691-438aced7a4ee"
      },
      "outputs": [
        {
          "name": "stderr",
          "output_type": "stream",
          "text": [
            "/usr/local/lib/python3.11/dist-packages/langsmith/client.py:272: LangSmithMissingAPIKeyWarning: API key must be provided when using hosted LangSmith API\n",
            "  warnings.warn(\n"
          ]
        }
      ],
      "source": [
        "# Get the prompt to use - you can modify this!\n",
        "prompt = hub.pull(\"hwchase17/openai-functions-agent\")"
      ]
    },
    {
      "cell_type": "markdown",
      "id": "3716d768",
      "metadata": {
        "id": "3716d768"
      },
      "source": [
        "## LLM"
      ]
    },
    {
      "cell_type": "code",
      "execution_count": null,
      "id": "30acf78d",
      "metadata": {
        "id": "30acf78d"
      },
      "outputs": [],
      "source": [
        "from langchain_openai import AzureChatOpenAI\n",
        "llm = AzureChatOpenAI(\n",
        "    deployment_name=\"gpt-4o\",\n",
        "    temperature = 0.5\n",
        ")"
      ]
    },
    {
      "cell_type": "markdown",
      "id": "a3fd4cf9",
      "metadata": {
        "id": "a3fd4cf9"
      },
      "source": [
        "## Tools\n",
        "\n",
        "Tavily's Search API is a search engine built specifically for AI agents (LLMs), delivering real-time, accurate, and factual results at speed.\n",
        "\n",
        "Generate Tavily API Key from this [link](https://app.tavily.com/home)"
      ]
    },
    {
      "cell_type": "code",
      "execution_count": null,
      "id": "32a2c52f",
      "metadata": {
        "id": "32a2c52f"
      },
      "outputs": [],
      "source": [
        "os.environ[\"TAVILY_API_KEY\"] = userdata.get('TAVILY_API_KEY')"
      ]
    },
    {
      "cell_type": "code",
      "execution_count": 14,
      "id": "ZfoaRX0GC4T3",
      "metadata": {
        "colab": {
          "base_uri": "https://localhost:8080/"
        },
        "id": "ZfoaRX0GC4T3",
        "outputId": "cb33bf9d-e75a-4164-b675-37a160dd61fa"
      },
      "outputs": [
        {
          "name": "stderr",
          "output_type": "stream",
          "text": [
            "/tmp/ipython-input-14-102372591.py:1: LangChainDeprecationWarning: The class `TavilySearchResults` was deprecated in LangChain 0.3.25 and will be removed in 1.0. An updated version of the class exists in the :class:`~langchain-tavily package and should be used instead. To use it run `pip install -U :class:`~langchain-tavily` and import as `from :class:`~langchain_tavily import TavilySearch``.\n",
            "  search = TavilySearchResults()\n"
          ]
        }
      ],
      "source": [
        "search = TavilySearchResults()\n",
        "tools = [search]"
      ]
    },
    {
      "cell_type": "markdown",
      "id": "7daee658",
      "metadata": {
        "id": "7daee658"
      },
      "source": [
        "## Agent"
      ]
    },
    {
      "cell_type": "code",
      "execution_count": 15,
      "id": "b6152ad4",
      "metadata": {
        "id": "b6152ad4"
      },
      "outputs": [],
      "source": [
        "agent = create_openai_functions_agent(llm, tools, prompt)"
      ]
    },
    {
      "cell_type": "code",
      "execution_count": 16,
      "id": "df123904",
      "metadata": {
        "id": "df123904"
      },
      "outputs": [],
      "source": [
        "result = agent.invoke({\"input\": \"what's the weather in SF?\", \"intermediate_steps\": []})"
      ]
    },
    {
      "cell_type": "code",
      "execution_count": 17,
      "id": "fbf7ceb5",
      "metadata": {
        "colab": {
          "base_uri": "https://localhost:8080/",
          "height": 35
        },
        "id": "fbf7ceb5",
        "outputId": "96b99748-d176-4cb5-c421-4f7d43e2c999"
      },
      "outputs": [
        {
          "data": {
            "application/vnd.google.colaboratory.intrinsic+json": {
              "type": "string"
            },
            "text/plain": [
              "'tavily_search_results_json'"
            ]
          },
          "execution_count": 17,
          "metadata": {},
          "output_type": "execute_result"
        }
      ],
      "source": [
        "result.tool"
      ]
    },
    {
      "cell_type": "code",
      "execution_count": 18,
      "id": "ee380cf3",
      "metadata": {
        "colab": {
          "base_uri": "https://localhost:8080/"
        },
        "id": "ee380cf3",
        "outputId": "0603906f-691e-4250-a363-8718c884c53c"
      },
      "outputs": [
        {
          "data": {
            "text/plain": [
              "{'query': 'current weather in San Francisco'}"
            ]
          },
          "execution_count": 18,
          "metadata": {},
          "output_type": "execute_result"
        }
      ],
      "source": [
        "result.tool_input"
      ]
    },
    {
      "cell_type": "code",
      "execution_count": 19,
      "id": "55f14f30",
      "metadata": {
        "colab": {
          "base_uri": "https://localhost:8080/"
        },
        "id": "55f14f30",
        "outputId": "ccc6862a-2276-48b0-e76d-57bacedd54bb"
      },
      "outputs": [
        {
          "data": {
            "text/plain": [
              "AgentActionMessageLog(tool='tavily_search_results_json', tool_input={'query': 'current weather in San Francisco'}, log=\"\\nInvoking: `tavily_search_results_json` with `{'query': 'current weather in San Francisco'}`\\n\\n\\n\", message_log=[AIMessage(content='', additional_kwargs={'function_call': {'arguments': '{\"query\":\"current weather in San Francisco\"}', 'name': 'tavily_search_results_json'}, 'refusal': None}, response_metadata={'token_usage': {'completion_tokens': 23, 'prompt_tokens': 92, 'total_tokens': 115, 'completion_tokens_details': {'accepted_prediction_tokens': 0, 'audio_tokens': 0, 'reasoning_tokens': 0, 'rejected_prediction_tokens': 0}, 'prompt_tokens_details': {'audio_tokens': 0, 'cached_tokens': 0}}, 'model_name': 'gpt-4o-2024-11-20', 'system_fingerprint': 'fp_ab9114d383', 'id': 'chatcmpl-Bn3jWn8sffEK8fWENDPUAtn50cXh9', 'service_tier': None, 'prompt_filter_results': [{'prompt_index': 0, 'content_filter_results': {'hate': {'filtered': False, 'severity': 'safe'}, 'jailbreak': {'filtered': False, 'detected': False}, 'self_harm': {'filtered': False, 'severity': 'safe'}, 'sexual': {'filtered': False, 'severity': 'safe'}, 'violence': {'filtered': False, 'severity': 'safe'}}}], 'finish_reason': 'function_call', 'logprobs': None, 'content_filter_results': {}}, id='run--e5166859-318f-4cf0-943a-1383bb034437-0', usage_metadata={'input_tokens': 92, 'output_tokens': 23, 'total_tokens': 115, 'input_token_details': {'audio': 0, 'cache_read': 0}, 'output_token_details': {'audio': 0, 'reasoning': 0}})])"
            ]
          },
          "execution_count": 19,
          "metadata": {},
          "output_type": "execute_result"
        }
      ],
      "source": [
        "result"
      ]
    },
    {
      "cell_type": "markdown",
      "id": "87a3993e",
      "metadata": {
        "id": "87a3993e"
      },
      "source": [
        "## Agent Executor"
      ]
    },
    {
      "cell_type": "code",
      "execution_count": 20,
      "id": "2eef3db8",
      "metadata": {
        "id": "2eef3db8"
      },
      "outputs": [],
      "source": [
        "agent_executor = AgentExecutor(agent=agent, tools=tools)"
      ]
    },
    {
      "cell_type": "code",
      "execution_count": 21,
      "id": "a6c08822",
      "metadata": {
        "colab": {
          "base_uri": "https://localhost:8080/"
        },
        "id": "a6c08822",
        "outputId": "4f21a697-7b0b-43b9-a6f4-219bc548be2e"
      },
      "outputs": [
        {
          "data": {
            "text/plain": [
              "{'input': 'what is the weather in sf?',\n",
              " 'output': 'The current weather in San Francisco is sunny with a high of around 72°F (22°C). Light south-southwest winds are expected, becoming west-southwest at 8 to 13 mph in the afternoon.'}"
            ]
          },
          "execution_count": 21,
          "metadata": {},
          "output_type": "execute_result"
        }
      ],
      "source": [
        "agent_executor.invoke({\"input\": \"what is the weather in sf?\"})"
      ]
    },
    {
      "cell_type": "markdown",
      "id": "4e8ca119",
      "metadata": {
        "id": "4e8ca119"
      },
      "source": [
        "## Streaming"
      ]
    },
    {
      "cell_type": "code",
      "execution_count": 22,
      "id": "e9b9dd6e",
      "metadata": {
        "colab": {
          "base_uri": "https://localhost:8080/"
        },
        "id": "e9b9dd6e",
        "outputId": "5f45e84b-297e-4e4f-8acb-53a1cfda0382"
      },
      "outputs": [
        {
          "name": "stdout",
          "output_type": "stream",
          "text": [
            "{'actions': [AgentActionMessageLog(tool='tavily_search_results_json', tool_input={'query': 'current weather in San Francisco'}, log=\"\\nInvoking: `tavily_search_results_json` with `{'query': 'current weather in San Francisco'}`\\n\\n\\n\", message_log=[AIMessageChunk(content='', additional_kwargs={'function_call': {'arguments': '{\"query\":\"current weather in San Francisco\"}', 'name': 'tavily_search_results_json'}}, response_metadata={'finish_reason': 'function_call', 'model_name': 'gpt-4o-2024-11-20', 'system_fingerprint': 'fp_ab9114d383'}, id='run--dc124873-86ff-4c06-a73e-89b31e0d5da6')])], 'messages': [AIMessageChunk(content='', additional_kwargs={'function_call': {'arguments': '{\"query\":\"current weather in San Francisco\"}', 'name': 'tavily_search_results_json'}}, response_metadata={'finish_reason': 'function_call', 'model_name': 'gpt-4o-2024-11-20', 'system_fingerprint': 'fp_ab9114d383'}, id='run--dc124873-86ff-4c06-a73e-89b31e0d5da6')]}\n",
            "{'steps': [AgentStep(action=AgentActionMessageLog(tool='tavily_search_results_json', tool_input={'query': 'current weather in San Francisco'}, log=\"\\nInvoking: `tavily_search_results_json` with `{'query': 'current weather in San Francisco'}`\\n\\n\\n\", message_log=[AIMessageChunk(content='', additional_kwargs={'function_call': {'arguments': '{\"query\":\"current weather in San Francisco\"}', 'name': 'tavily_search_results_json'}}, response_metadata={'finish_reason': 'function_call', 'model_name': 'gpt-4o-2024-11-20', 'system_fingerprint': 'fp_ab9114d383'}, id='run--dc124873-86ff-4c06-a73e-89b31e0d5da6')]), observation=[{'title': 'Weather San Francisco in June 2025: Temperature & Climate', 'url': 'https://en.climate-data.org/north-america/costa-rica/guanacaste/san-francisco-484220/t/june-6/', 'content': 'Are you planning a holiday with hopefully nice weather in San Francisco in June 2025? ... 27. June, 26 °C | 79 °F, 28 °C | 83 °F, 25 °C | 76 °F, 13.0 mm | 0.5', 'score': 0.9311691}, {'title': 'San Francisco, CA Weather Conditions - Weather Underground', 'url': 'https://www.wunderground.com/weather/us/ca/san-francisco', 'content': \"# San Francisco, CA Weather Conditionsstar\\\\_ratehome\\n\\nicon\\n\\nThank you for reporting this station. We will review the data in question.\\n\\nYou are about to report this weather station for bad data. Please select the information that is incorrect.\\n\\nSee more\\n\\n(Reset Map)\\n\\nNo PWS\\n\\nReset Map, or Add PWS.\\n\\naccess\\\\_time 6:40 AM PDT on June 27, 2025 (GMT -7) | Updated 10 seconds ago\\n\\nicon\\n\\nPartly Cloudy\\n\\nToday's temperature is forecast to be COOLER than yesterday.\", 'score': 0.9020676}, {'title': 'Weather in San Francisco in June 2025', 'url': 'https://world-weather.info/forecast/usa/san_francisco/june-2025/', 'content': 'Detailed ⚡ San Francisco Weather Forecast for June 2025 - day/night 🌡️ temperatures, precipitations - World-Weather.info. Add the current city. Search. Weather; Archive; Weather Widget °F. World; United States; California; Weather in San Francisco; ... 27 +66° +54° 28 +68° +54° 29', 'score': 0.8978479}, {'title': 'Friday, June 27, 2025. San Francisco, CA - Weather Forecast', 'url': 'https://weathershogun.com/weather/usa/ca/san-francisco/480/june/2025-06-27', 'content': \"Areas of low cloud cover to start; otherwise, sunny.\\n\\n# San Francisco Weather Forecast Updated\\n\\n## Weather Forecast History\\n\\nLast Year's Weather on This Day (June 27, 2024)\\n\\n### Day\\n\\n64°\\n\\n### Night\\n\\n52°\\n\\n© Copyright by WeatherShogun.com [...] WeatherShogun.com\\n\\n### Warning: Extreme UV Index Today: 11\\n\\nOverexposure to the sun's harmful UV rays can cause sunburn and increase the risk of developing skin cancer, including melanoma. Protect yourself by wearing clothing that covers your skin, sunglasses, and a hat. Apply a broad-spectrum sunscreen with an SPF of 30 or higher every two hours, even on cloudy days. Minimize direct sun exposure during peak hours (10 AM to 4 PM) to reduce the risk.\", 'score': 0.8923472}, {'title': 'National Weather Service', 'url': 'https://forecast.weather.gov/zipcity.php?inputstring=San+Francisco,CA', 'content': 'San Francisco CA  \\n 37.77°N 122.41°W (Elev. 131 ft)\\n\\nLast Update:\\n\\n1:26 am PDT Jun 27, 2025\\n\\nForecast Valid:\\n\\n6am PDT Jun 27, 2025-6pm PDT Jul 3, 2025\\n\\nForecast Discussion\\n\\nGet as KML\\nGet as XML\\n\\n## Additional Resources\\n\\n#### Radar & Satellite Image\\n\\nLink to Local Radar Data Link to Satellite Data\\n\\n#### Hourly Weather Forecast\\n\\n\\n\\n#### National Digital Forecast Database\\n\\nNational Digital Forecast Database Maximum Temperature Forecast\\n\\nHigh Temperature [...] |  |  |\\n| --- | --- |\\n| Humidity | 83% |\\n| Wind Speed | NA NA MPH |\\n| Barometer | NA |\\n| Dewpoint | 48°F (9°C) |\\n| Visibility | NA |\\n| Last update | 27 Jun 05:43 AM PDT |\\n\\nMore Information:\\n\\nLocal Forecast OfficeMore Local Wx3 Day HistoryHourly Weather Forecast\\n\\nExtended Forecast for\\n\\n## San Francisco CA\\n\\n Today\\n\\n  Today: Sunny, with a high near 72. Light south southwest wind becoming west southwest 8 to 13 mph in the afternoon. \\n\\n  High: 72 °F\\n\\n  Sunny\\n Tonight [...] National Digital Forecast Database Weather Element Forecast\\n\\nChance of Precipitation\\n\\n## SAN FRANCISCO DOWNTOWN (SFOC1)\\n\\nNA\\n\\n54°F\\n\\n12°C\\n\\n|  |  |\\n| --- | --- |\\n| Humidity | 83% |\\n| Wind Speed | NA NA MPH |\\n| Barometer | NA |\\n| Dewpoint | 48°F (9°C) |\\n| Visibility | NA |\\n| Last update | 27 Jun 05:43 AM PDT |\\n\\nMore Information:\\n\\nLocal Forecast OfficeMore Local Wx3 Day HistoryHourly Weather Forecast\\n\\n## San Francisco CA\\n\\nToday', 'score': 0.8875269}])], 'messages': [FunctionMessage(content='[{\"title\": \"Weather San Francisco in June 2025: Temperature & Climate\", \"url\": \"https://en.climate-data.org/north-america/costa-rica/guanacaste/san-francisco-484220/t/june-6/\", \"content\": \"Are you planning a holiday with hopefully nice weather in San Francisco in June 2025? ... 27. June, 26 °C | 79 °F, 28 °C | 83 °F, 25 °C | 76 °F, 13.0 mm | 0.5\", \"score\": 0.9311691}, {\"title\": \"San Francisco, CA Weather Conditions - Weather Underground\", \"url\": \"https://www.wunderground.com/weather/us/ca/san-francisco\", \"content\": \"# San Francisco, CA Weather Conditionsstar\\\\\\\\_ratehome\\\\n\\\\nicon\\\\n\\\\nThank you for reporting this station. We will review the data in question.\\\\n\\\\nYou are about to report this weather station for bad data. Please select the information that is incorrect.\\\\n\\\\nSee more\\\\n\\\\n(Reset Map)\\\\n\\\\nNo PWS\\\\n\\\\nReset Map, or Add PWS.\\\\n\\\\naccess\\\\\\\\_time 6:40 AM PDT on June 27, 2025 (GMT -7) | Updated 10 seconds ago\\\\n\\\\nicon\\\\n\\\\nPartly Cloudy\\\\n\\\\nToday\\'s temperature is forecast to be COOLER than yesterday.\", \"score\": 0.9020676}, {\"title\": \"Weather in San Francisco in June 2025\", \"url\": \"https://world-weather.info/forecast/usa/san_francisco/june-2025/\", \"content\": \"Detailed ⚡ San Francisco Weather Forecast for June 2025 - day/night 🌡️ temperatures, precipitations - World-Weather.info. Add the current city. Search. Weather; Archive; Weather Widget °F. World; United States; California; Weather in San Francisco; ... 27 +66° +54° 28 +68° +54° 29\", \"score\": 0.8978479}, {\"title\": \"Friday, June 27, 2025. San Francisco, CA - Weather Forecast\", \"url\": \"https://weathershogun.com/weather/usa/ca/san-francisco/480/june/2025-06-27\", \"content\": \"Areas of low cloud cover to start; otherwise, sunny.\\\\n\\\\n# San Francisco Weather Forecast Updated\\\\n\\\\n## Weather Forecast History\\\\n\\\\nLast Year\\'s Weather on This Day (June 27, 2024)\\\\n\\\\n### Day\\\\n\\\\n64°\\\\n\\\\n### Night\\\\n\\\\n52°\\\\n\\\\n© Copyright by WeatherShogun.com [...] WeatherShogun.com\\\\n\\\\n### Warning: Extreme UV Index Today: 11\\\\n\\\\nOverexposure to the sun\\'s harmful UV rays can cause sunburn and increase the risk of developing skin cancer, including melanoma. Protect yourself by wearing clothing that covers your skin, sunglasses, and a hat. Apply a broad-spectrum sunscreen with an SPF of 30 or higher every two hours, even on cloudy days. Minimize direct sun exposure during peak hours (10 AM to 4 PM) to reduce the risk.\", \"score\": 0.8923472}, {\"title\": \"National Weather Service\", \"url\": \"https://forecast.weather.gov/zipcity.php?inputstring=San+Francisco,CA\", \"content\": \"San Francisco CA  \\\\n 37.77°N 122.41°W (Elev. 131 ft)\\\\n\\\\nLast Update:\\\\n\\\\n1:26 am PDT Jun 27, 2025\\\\n\\\\nForecast Valid:\\\\n\\\\n6am PDT Jun 27, 2025-6pm PDT Jul 3, 2025\\\\n\\\\nForecast Discussion\\\\n\\\\nGet as KML\\\\nGet as XML\\\\n\\\\n## Additional Resources\\\\n\\\\n#### Radar & Satellite Image\\\\n\\\\nLink to Local Radar Data Link to Satellite Data\\\\n\\\\n#### Hourly Weather Forecast\\\\n\\\\n\\\\n\\\\n#### National Digital Forecast Database\\\\n\\\\nNational Digital Forecast Database Maximum Temperature Forecast\\\\n\\\\nHigh Temperature [...] |  |  |\\\\n| --- | --- |\\\\n| Humidity | 83% |\\\\n| Wind Speed | NA NA MPH |\\\\n| Barometer | NA |\\\\n| Dewpoint | 48°F (9°C) |\\\\n| Visibility | NA |\\\\n| Last update | 27 Jun 05:43 AM PDT |\\\\n\\\\nMore Information:\\\\n\\\\nLocal Forecast OfficeMore Local Wx3 Day HistoryHourly Weather Forecast\\\\n\\\\nExtended Forecast for\\\\n\\\\n## San Francisco CA\\\\n\\\\n Today\\\\n\\\\n  Today: Sunny, with a high near 72. Light south southwest wind becoming west southwest 8 to 13 mph in the afternoon. \\\\n\\\\n  High: 72 °F\\\\n\\\\n  Sunny\\\\n Tonight [...] National Digital Forecast Database Weather Element Forecast\\\\n\\\\nChance of Precipitation\\\\n\\\\n## SAN FRANCISCO DOWNTOWN (SFOC1)\\\\n\\\\nNA\\\\n\\\\n54°F\\\\n\\\\n12°C\\\\n\\\\n|  |  |\\\\n| --- | --- |\\\\n| Humidity | 83% |\\\\n| Wind Speed | NA NA MPH |\\\\n| Barometer | NA |\\\\n| Dewpoint | 48°F (9°C) |\\\\n| Visibility | NA |\\\\n| Last update | 27 Jun 05:43 AM PDT |\\\\n\\\\nMore Information:\\\\n\\\\nLocal Forecast OfficeMore Local Wx3 Day HistoryHourly Weather Forecast\\\\n\\\\n## San Francisco CA\\\\n\\\\nToday\", \"score\": 0.8875269}]', additional_kwargs={}, response_metadata={}, name='tavily_search_results_json')]}\n",
            "{'output': 'The current weather in San Francisco is sunny with a high temperature of around 72°F (22°C). Winds are light, becoming west-southwest at 8 to 13 mph later in the day.', 'messages': [AIMessage(content='The current weather in San Francisco is sunny with a high temperature of around 72°F (22°C). Winds are light, becoming west-southwest at 8 to 13 mph later in the day.', additional_kwargs={}, response_metadata={})]}\n"
          ]
        }
      ],
      "source": [
        "for step in agent_executor.stream({\"input\": \"what is the weather in sf?\"}):\n",
        "    print(step)"
      ]
    },
    {
      "cell_type": "markdown",
      "id": "-d_DefWbTDVM",
      "metadata": {
        "id": "-d_DefWbTDVM"
      },
      "source": [
        "# **Let's Do an Activity**\n",
        "\n",
        "## **Objective**\n",
        "\n",
        "Creating an Agent with Tavily Search and OpenAI for Real-Time Information Retrieval\n",
        "\n",
        "## **Scenario**\n",
        "\n",
        "How can you create a LangChain agent that utilizes Tavily's Search API to retrieve real-time information and generate responses using OpenAI's GPT-3.5-turbo model?\n",
        "\n",
        "## **Steps**\n",
        "\n",
        "* Initialize API Keys\n",
        "* Import Required Libraries\n",
        "\n",
        "  * Import the necessary libraries from LangChain, LangChain Community, and OpenAI.\n",
        "\n",
        "* Configure the LLM\n",
        "\n",
        "  * Set up the ChatOpenAI model with your OpenAI API key.\n",
        "\n",
        "* Set Up Tavily Search\n",
        "\n",
        "  * Initialize the Tavily Search tool with your Tavily API key.\n",
        "\n",
        "* Create a Prompt Template\n",
        "* Create the Agent\n",
        "* Invoke the Agent"
      ]
    },
    {
      "cell_type": "code",
      "execution_count": null,
      "id": "ba35f057",
      "metadata": {
        "id": "ba35f057"
      },
      "outputs": [],
      "source": []
    }
  ],
  "metadata": {
    "colab": {
      "provenance": []
    },
    "kernelspec": {
      "display_name": "Python 3 (ipykernel)",
      "language": "python",
      "name": "python3"
    },
    "language_info": {
      "codemirror_mode": {
        "name": "ipython",
        "version": 3
      },
      "file_extension": ".py",
      "mimetype": "text/x-python",
      "name": "python",
      "nbconvert_exporter": "python",
      "pygments_lexer": "ipython3",
      "version": "3.11.1"
    }
  },
  "nbformat": 4,
  "nbformat_minor": 5
}
